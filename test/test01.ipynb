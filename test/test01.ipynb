{
 "cells": [
  {
   "cell_type": "code",
   "execution_count": 1,
   "metadata": {},
   "outputs": [
    {
     "name": "stdout",
     "output_type": "stream",
     "text": [
      "Progress: 10%\n",
      "Progress: 20%\n",
      "Progress: 30%\n",
      "Progress: 40%\n",
      "Progress: 50%\n",
      "Progress: 60%\n",
      "Progress: 70%\n",
      "Progress: 80%\n",
      "Progress: 90%\n",
      "Progress: 100%\n"
     ]
    }
   ],
   "source": [
    "import time\n",
    "\n",
    "n = 10\n",
    "for i in range(n):\n",
    "    time.sleep(0.5)\n",
    "    print(\"Progress: {0:.0%}\".format(float(i + 1)/n))"
   ]
  },
  {
   "cell_type": "code",
   "execution_count": 2,
   "metadata": {},
   "outputs": [
    {
     "name": "stdout",
     "output_type": "stream",
     "text": [
      "Progress: 100%\n"
     ]
    }
   ],
   "source": [
    "from IPython.display import clear_output\n",
    "\n",
    "import time\n",
    "\n",
    "n = 10\n",
    "for i in range(n):\n",
    "    time.sleep(1)\n",
    "    clear_output(wait = True)\n",
    "    print(\"Progress: {0:.0%}\".format(float(i + 1)/n))"
   ]
  },
  {
   "cell_type": "code",
   "execution_count": 27,
   "metadata": {},
   "outputs": [],
   "source": [
    "a = []"
   ]
  },
  {
   "cell_type": "code",
   "execution_count": null,
   "metadata": {},
   "outputs": [],
   "source": []
  },
  {
   "cell_type": "code",
   "execution_count": 26,
   "metadata": {},
   "outputs": [],
   "source": [
    "import os"
   ]
  },
  {
   "cell_type": "code",
   "execution_count": 84,
   "metadata": {},
   "outputs": [],
   "source": [
    "root_path_list = []\n",
    "\n",
    "\n",
    "for root, dirs, files in os.walk('../crawling/naver/imgs/'):\n",
    "    root_path_list.append(os.listdir(root))\n",
    "    "
   ]
  },
  {
   "cell_type": "code",
   "execution_count": 98,
   "metadata": {},
   "outputs": [],
   "source": [
    "root_path_list = root_path_list[1:]"
   ]
  },
  {
   "cell_type": "code",
   "execution_count": 96,
   "metadata": {},
   "outputs": [
    {
     "data": {
      "text/plain": [
       "'패밀리 사이즈, 남지은&김인호'"
      ]
     },
     "execution_count": 96,
     "metadata": {},
     "output_type": "execute_result"
    }
   ],
   "source": [
    "root_path_list[0][75]"
   ]
  },
  {
   "cell_type": "code",
   "execution_count": null,
   "metadata": {},
   "outputs": [],
   "source": []
  },
  {
   "cell_type": "code",
   "execution_count": 73,
   "metadata": {},
   "outputs": [],
   "source": [
    "arr = []"
   ]
  },
  {
   "cell_type": "code",
   "execution_count": 100,
   "metadata": {},
   "outputs": [],
   "source": [
    "# root_path_list"
   ]
  },
  {
   "cell_type": "code",
   "execution_count": 102,
   "metadata": {},
   "outputs": [
    {
     "name": "stdout",
     "output_type": "stream",
     "text": [
      "17\n",
      "75\n",
      "288\n",
      "316\n"
     ]
    }
   ],
   "source": [
    "for i, each_dir_files in enumerate(root_path_list):\n",
    "    arr.append(len(each_dir_files))\n",
    "    if len(each_dir_files) == 0:\n",
    "        print(i)"
   ]
  },
  {
   "cell_type": "code",
   "execution_count": 125,
   "metadata": {},
   "outputs": [
    {
     "name": "stdout",
     "output_type": "stream",
     "text": [
      "231\n",
      "332\n",
      "201\n",
      "294\n",
      "633\n",
      "463\n",
      "278\n",
      "519\n",
      "215\n",
      "201\n",
      "312\n",
      "405\n",
      "233\n",
      "339\n",
      "276\n",
      "416\n",
      "577\n",
      "207\n",
      "265\n",
      "256\n",
      "232\n",
      "257\n",
      "481\n",
      "202\n",
      "1225\n",
      "270\n",
      "303\n",
      "479\n",
      "251\n",
      "270\n",
      "558\n",
      "301\n",
      "201\n",
      "231\n",
      "332\n",
      "201\n",
      "294\n",
      "633\n",
      "463\n",
      "278\n",
      "519\n",
      "215\n",
      "201\n",
      "312\n",
      "405\n",
      "233\n",
      "339\n",
      "276\n",
      "416\n",
      "577\n",
      "207\n",
      "265\n",
      "256\n",
      "232\n",
      "257\n",
      "481\n",
      "202\n",
      "1225\n",
      "270\n",
      "303\n",
      "479\n",
      "251\n",
      "270\n",
      "558\n",
      "301\n",
      "201\n",
      "231\n",
      "332\n",
      "201\n",
      "294\n",
      "633\n",
      "463\n",
      "278\n",
      "519\n",
      "215\n",
      "201\n",
      "312\n",
      "405\n",
      "233\n",
      "339\n",
      "276\n",
      "416\n",
      "577\n",
      "207\n",
      "265\n",
      "256\n",
      "232\n",
      "257\n",
      "481\n",
      "202\n",
      "1225\n",
      "270\n",
      "303\n",
      "479\n",
      "251\n",
      "270\n",
      "558\n",
      "301\n",
      "201\n",
      "231\n",
      "332\n",
      "201\n",
      "294\n",
      "633\n",
      "463\n",
      "278\n",
      "519\n",
      "215\n",
      "201\n",
      "312\n",
      "405\n",
      "233\n",
      "339\n",
      "276\n",
      "416\n",
      "577\n",
      "207\n",
      "265\n",
      "256\n",
      "232\n",
      "257\n",
      "481\n",
      "202\n",
      "1225\n",
      "270\n",
      "303\n",
      "479\n",
      "251\n",
      "270\n",
      "558\n",
      "301\n",
      "201\n"
     ]
    }
   ],
   "source": [
    "count = 0\n",
    "for each_num in arr:\n",
    "    if each_num > 200:\n",
    "        print(each_num)\n",
    "        count += 1"
   ]
  },
  {
   "cell_type": "code",
   "execution_count": 126,
   "metadata": {},
   "outputs": [
    {
     "data": {
      "text/plain": [
       "132"
      ]
     },
     "execution_count": 126,
     "metadata": {},
     "output_type": "execute_result"
    }
   ],
   "source": [
    "count"
   ]
  },
  {
   "cell_type": "code",
   "execution_count": null,
   "metadata": {},
   "outputs": [],
   "source": []
  },
  {
   "cell_type": "code",
   "execution_count": null,
   "metadata": {},
   "outputs": [],
   "source": []
  },
  {
   "cell_type": "code",
   "execution_count": 111,
   "metadata": {},
   "outputs": [
    {
     "data": {
      "text/plain": [
       "[]"
      ]
     },
     "execution_count": 111,
     "metadata": {},
     "output_type": "execute_result"
    }
   ],
   "source": [
    "root_path_list[288]"
   ]
  },
  {
   "cell_type": "code",
   "execution_count": 112,
   "metadata": {},
   "outputs": [
    {
     "data": {
      "text/plain": [
       "324"
      ]
     },
     "execution_count": 112,
     "metadata": {},
     "output_type": "execute_result"
    }
   ],
   "source": [
    "len(root_path_list)"
   ]
  },
  {
   "cell_type": "code",
   "execution_count": null,
   "metadata": {},
   "outputs": [],
   "source": []
  },
  {
   "cell_type": "code",
   "execution_count": 117,
   "metadata": {},
   "outputs": [],
   "source": [
    "webtoon_info_df = pd.read_csv('../crawling/naver/webtoon_info.csv').drop(columns='Unnamed: 0')"
   ]
  },
  {
   "cell_type": "code",
   "execution_count": 119,
   "metadata": {},
   "outputs": [
    {
     "name": "stdout",
     "output_type": "stream",
     "text": [
      "신의 탑, SIU\n",
      "윈드브레이커, 조용석\n",
      "인생존망, 박태준&전선욱\n",
      "소녀의 세계, 모랑지\n",
      "평범한 8반, 영파카\n",
      "귀전구담, QTT\n",
      "백수세끼, 치즈\n",
      "야자괴담, 이도광\n",
      "장씨세가 호위무사, 조형근&김인호\n",
      "니편내편, 미티\n",
      "칼가는 소녀, 오리\n",
      "악취, 디귿\n",
      "데드라이프, 후렛샤&임진국\n",
      "유일무이 로맨스, 두부\n",
      "사장님을 잠금해제, 박성현\n",
      "앵무살수, 김성진\n",
      "히어로메이커, 빤쓰\n",
      "링크보이, 광진&두엽\n",
      "요리GO, HO9\n",
      "이것도 친구라고, 제야\n",
      "첫사랑입니다만, 산차\n",
      "일진이 사나워, 강환영&김현아\n",
      "교환일기, 한끼룩\n",
      "같은도장, 이힝\n",
      "아는 여자애, 허니비\n",
      "노력의 결과, 악파\n",
      "삶이 우리를 속일지라도, 김지수\n",
      "도플갱어의 게임, 킹스날&쥐주\n",
      "꿈의 기업, 문지현\n",
      "와이키키 뱀파이어, 요니요니\n",
      "결혼생활 그림일기, 은꼼지\n",
      "지옥, 연상호&최규석\n",
      "피플, 서승준&손창균\n",
      "닥터 하운드, 아루아니&레임\n",
      "위대한 방옥숙, 매미&희세\n",
      "요괴대전, 강두식&장부규\n",
      "결백한 사람은 없다, 서각\n",
      "정보전사 202, 이작가\n",
      "지구멸망버튼, 박장고&신동구\n",
      "하슬라, 까를로스&유상진\n",
      "모락모락 왕세자님, 원해\n",
      "중독연구소, 김택기\n",
      "인간의 온도, 이재익&양세준\n",
      "사소한 냐냐, LICO\n",
      "여기 악마가 있어, 맷집왕\n",
      "물레, 고긱\n",
      "백호랑, 박혬\n",
      "뱀파이어의 꽃휴재, 카나리아&동물\n",
      "블루투스, 국승원\n",
      "여신강림, 야옹이\n",
      "마음의소리, 조석\n",
      "랜덤채팅의 그녀!, 박은혁\n",
      "체크포인트, 송가&은소\n",
      "신도림, 오세형\n",
      "사이드킥 2~3휴재, 신의철\n",
      "바른연애 길잡이, 남수\n",
      "사신소년, 류\n",
      "신의 언어, 장래혁\n",
      "원주민 공포만화, 원주민\n",
      "하루만 네가 되고 싶어, 삼\n",
      "빙탕후루, 장희&주호민\n",
      "은주의 방 2~3부, 노란구미\n",
      "윌유메리미, 마인드C\n",
      "중증외상센터 : 골든 아워, 한산이가&홍비치라\n",
      "에이머, 구동인\n",
      "용왕님의 셰프가 되었습니다, 문백경&카라쿨\n",
      "삼국지톡컷툰, 무적핑크&이리\n",
      "제로게임, 즐바센\n",
      "악마와 계약연애, 장진&움비\n",
      "견우와 선녀, 안수민\n",
      "열정호구, 솔뱅이\n",
      "오파츠, 성진&부겸\n",
      "자판귀, 윤정민\n",
      "하우스키퍼, 채용택&유현\n",
      "문래빗, 이난\n",
      "3cm 헌터, 돌연변이\n",
      "어글리 피플즈, 배사과\n",
      "헬58, 장성준\n",
      "땅 보고 걷는 아이, 다온\n",
      "패밀리 사이즈, 남지은&김인호\n",
      "그놈은 흑염룡, 혜진양\n",
      "킬링타임, 혼\n",
      "피와 살, 황준호\n",
      "필살VS로맨스, 구르\n",
      "저세상 클라스!, 꾀돌이\n",
      "너에게만 보이는, 소소만\n",
      "올가미, 해무리\n",
      "숲속의 담, 다홍\n",
      "집이 없어, 와난\n",
      "그날 죽은 나는휴재, 이언\n",
      "별종, 이무기\n",
      "조선홍보대행사 조대박, 김양수\n",
      "아이고 아이고, 하모\n",
      "장단에 맞춰줘!, 햇님\n",
      "정년이, 서이레&나몬\n",
      "안식의 밤, 연제원\n",
      "유미의 세포들컷툰, 이동건\n",
      "고수, 류기운&문정후\n",
      "복학왕, 기안84\n",
      "연놈, 상하\n",
      "헬퍼 2 : 킬베로스, 삭\n",
      "세상은 돈과 권력, 한동우&이도희\n",
      "격기3반, 이학\n",
      "레사 시즌2~3, POGO\n",
      "그래서 나는 안티팬과 결혼했다, 재림\n",
      "고삼무쌍, B급달궁&하마\n",
      "이츠마인, 럭스\n",
      "원수를 사랑하라, 정윤&태건\n",
      "모죠의 일지컷툰, 모죠\n",
      "언덕 위의 제임스, 쿠당탕\n",
      "일렉시드, 손제호&제나\n",
      "여주실격!, 기맹기\n",
      "판타지 여동생!, 유누\n",
      "귀곡의 문, 삼촌\n",
      "아도나이휴재, 주동근\n",
      "갓물주, HD3\n",
      "그 판타지 세계에서 사는 법, 촌장\n",
      "얼굴천재, 지에이\n",
      "튜토리얼 탑의 고인물, 방구석김씨&오마감\n",
      "방탈출, 십박\n",
      "캐슬, 정연\n",
      "미래의 골동품 가게, 구아진\n",
      "정순애 식당, 아르몽\n",
      "칼부림, 고일권\n",
      "203호 저승사자, 샤니\n",
      "당신의 향수, 호우\n",
      "오라존미, 허5파6\n",
      "천도, 진작\n",
      "럭키언럭키, 가천가\n",
      "닥터앤닥터 육아일기, 닥터베르\n",
      "자취로운 생활, 츄카피\n",
      "커넥트, 신대성\n",
      "텃밭부 사건일지, 오이츄\n",
      "나의 우주, 공이&김문경\n",
      "어쩐지 수상하더라, 디기사&두둥\n",
      "오버더문, 포르토&이승준\n",
      "푸른사막 아아루, 달꽃\n",
      "밀웜, 쿼시\n",
      "기억흔적, 브라보 장\n",
      "귀신이지만 사랑하고 싶어, 엔엔&오제이\n",
      "신선비, 이서현\n",
      "비스타, 유마\n",
      "FM보이, 육일공\n",
      "저승사자 출입금지, 심웅섭\n",
      "범이올시다!, 해\n",
      "연애혁명, 232\n",
      "더 복서, 정지훈\n",
      "좀비딸, 이윤창\n",
      "이두나!, 민송아\n",
      "최강전설 강해효, 최병열\n",
      "전자오락수호대, 가스파드\n",
      "간 떨어지는 동거, 나\n",
      "쿠베라, 카레곰\n",
      "화이트 블러드, 임리나\n",
      "가담항설, 랑또\n",
      "겟백, 세윤\n",
      "집사레인저, 현실안주형\n",
      "꽃만 키우는데 너무강함, 쿰타타&주현후\n",
      "하드캐리휴재, 조양\n",
      "병의 기록, 베어리\n",
      "만물의 영장, 보민\n",
      "가타부타타, 숭어\n",
      "신비, 반지\n",
      "특수 영능력 수사반, 사다함\n",
      "어쩔꼰대, 강선율&Jencil\n",
      "무모협지, 초신우\n",
      "킬더킹, 마사토끼&joana\n",
      "당신의 과녁, 고태호\n",
      "로그아웃, 임목원\n",
      "셧업앤댄스, 이은재\n",
      "소녀180, 나우원&델라\n",
      "날 가져요, 로즈빈&원펀치래빗\n",
      "안개무덤, 김태영\n",
      "롤랑롤랑, 자유\n",
      "미드나잇 체이서휴재, 석재윤\n",
      "데이빗, d몬\n",
      "셈하는 사이, 면지\n",
      "깁스맨, 맹물\n",
      "겟라이프, MOOHAK\n",
      "갑자기 커피, 우&리지\n",
      "이계 무슨 황비휴재, 전현서&은영\n",
      "손아귀, 황정훈\n",
      "불릿 6미리, 김도근\n",
      "방 안의 코끼리, 고요\n",
      "스테어스, 옹구\n",
      "갓도령스, 도로롱\n",
      "밤하늘에 구름운, 견지&그리온\n",
      "사소한 냐냐, LICO\n",
      "열등의 조건, 또이\n",
      "루시퍼의 경호원, 문설희&직선\n",
      "외모지상주의, 박태준\n",
      "갓 오브 하이스쿨, 박용제\n",
      "이제 곧 죽습니다, 이원식&꿀찬\n",
      "스위트홈, 김칸비&황영찬\n",
      "더 게이머, 성상영&상아\n",
      "테러맨, 한동우&고진호\n",
      "닥터 프로스트 시즌 3~4, 이종범\n",
      "재혼 황후, 알파타르트&숨풀\n",
      "1초, 시니&광운\n",
      "화장 지워주는 남자, 이연\n",
      "삼국지톡컷툰, 무적핑크&이리\n",
      "트럼프, 이채은\n",
      "금붕어, 명랑&애풍\n",
      "난약, 정현주&박진환\n",
      "냐한남자, 올소\n",
      "헬로도사, 웅비\n",
      "몽홀, 장태산\n",
      "스윗솔티, 달삐\n",
      "현혹, 홍작가\n",
      "복학생 정순이, 한짜장\n",
      "옆집친구, 이한솔\n",
      "소심한 팔레트, 한민기\n",
      "가슴털 로망스, 갸오오\n",
      "골든 체인지, 브림스\n",
      "금혼령-조선혼인금지령, 천지혜&산책\n",
      "하르모니아, YOON&JINU\n",
      "걸어서 30분휴재, 이온도\n",
      "신상 미스터리 극장, 신상윤\n",
      "너의 미소가 함정, 앵고\n",
      "도롱이, 사이사\n",
      "고래별, 나윤희\n",
      "자취로운 생활, 츄카피\n",
      "구독금지, 김이연\n",
      "사우러스, 이노\n",
      "9등급 뒤집기, 아백\n",
      "후덜덜덜 남극전자, 김민혁\n",
      "사냥개들, 정찬\n",
      "버그, 해마&송지형\n",
      "개미, 재희\n",
      "나쁜 쪽으로, 오은&이세릴\n",
      "대표님이 구독하셨습니다, 신지원&한혜린\n",
      "꼬맹이를 부탁해!, 마라링\n",
      "나의 첫번째 새벽, 신매\n",
      "합법해적 파르페, 뼈피살\n",
      "하루, 오늘\n",
      "감히, 희나리\n",
      "얌전한 사이, JQ&이진영\n",
      "호랑이형님, 이상규\n",
      "유미의 세포들컷툰, 이동건\n",
      "프리드로우, 전선욱\n",
      "회춘, 기안84\n",
      "취사병 전설이 되다, 제이로빈&이진수\n",
      "비질란테, CRG&김규삼\n",
      "스터디그룹, 신형욱&유승연\n",
      "나이트런, 김성민\n",
      "윌유메리미, 마인드C\n",
      "모죠의 일지컷툰, 모죠\n",
      "어글리후드, 미애\n",
      "초인의 시대, 섭이\n",
      "민간인 통제구역, OSIK\n",
      "갓핑크, 이상신&국중록\n",
      "나를 바꿔줘, 이지호&호띠\n",
      "언데드, 김우준\n",
      "먹이, 외눈박이&박수봉\n",
      "두번째 생일, 스프링\n",
      "친애하는 X, 반지운\n",
      "탑코너, 윤성&라군\n",
      "홍시는 날 좋아해!, 강하다&웃는해\n",
      "아홉수 우리들휴재, 수박양\n",
      "열불 로맨스, 홍치\n",
      "공유몽, 주신&유령선\n",
      "꼬리 있는 연애, 진하&헤폰\n",
      "고인의 명복, 조주희&유노\n",
      "왕세자 입학도, 무번\n",
      "피라미드 게임, 달꼬냑\n",
      "누군가의 로섬, 방농구\n",
      "여고전설, 어스문&이제스\n",
      "틴맘, theterm\n",
      "우주최강대스타, 젤리피쉬&도힌이\n",
      "함부로 대해줘, 선우\n",
      "토끼대왕, 김숭늉\n",
      "거미, 모아이\n",
      "두근두근 마감 중, 연두&송이\n",
      "압락사스, 247\n",
      "머리카락을 뽑으면, 이다몽\n",
      "11me, 고지애&영재영\n",
      "유령극단, LICO\n",
      "마음의 숙제, 고아라\n",
      "천사가 아니야, 박유나&표류\n",
      "도사 가온, 김상민\n",
      "법대로 사랑하라, 노승아&일리\n",
      "먹지마세요, 노도&비버\n",
      "어른의 계절, 선홍달\n",
      "싸움독학, 박태준&김정현\n",
      "열렙전사, 김세훈\n",
      "약한영웅, 서패스&김진석\n",
      "마법스크롤 상인 지오, 엄재경&호패\n",
      "맘마미안, 미티&구구\n",
      "다이스(DICE), 윤현석\n",
      "소녀재판, 루즌아&보로콤\n",
      "마루한 - 구현동화전휴재, 박성우\n",
      "돼지우리, 김칸비&천범식\n",
      "검은인간, 이저녁\n",
      "도망자, 신영우\n",
      "호랭총각, 강호진\n",
      "구름이 피워낸 꽃, 비온후\n",
      "내일, 라마\n",
      "극야, 운&한 큰빛\n",
      "닭강정, 박지독\n",
      "인어를 위한 수영교실, 용찬\n",
      "합격시켜주세용, 이온\n",
      "행성인간, 조석\n",
      "호러전파상, 봄소희&김선희\n",
      "가비지타임, 2사장\n",
      "오로지 너를 이기고 싶어, 아마도지&사삭\n",
      "강남도깨비, 이경민&송준혁\n",
      "닥터앤닥터 육아일기, 닥터베르\n",
      "아르세니아의 마법사, 박성호&SAYM\n",
      "학교정벌, 나락&지앤\n",
      "패밀리 사이즈, 남지은&김인호\n",
      "인싸라이프, 힐링달\n",
      "데이빗, d몬\n",
      "죽여주는 탐정님, 뻥&조은\n",
      "괴물신부, 상범&스테익\n",
      "꽃 피는 날, 두루\n",
      "웅이는 배고파, 박웅\n",
      "라일락 200%, 아니영\n",
      "별이삼샵, 혀노\n",
      "오늘도 사랑하세요, 하찌\n",
      "불발소년, 곤세\n",
      "마도, 이밤\n",
      "Here U Are, D JUN\n",
      "무주의 맹시휴재, 마누비\n",
      "위험한 신입사원, 박수정&Jiya\n",
      "소녀 해미, 이현우\n",
      "타인의 로맨스, 호욱&만찐\n",
      "만찢남녀, 님니\n",
      "8월의 눈보라, 김리아\n",
      "그녀의 버킷리스트, 황양&솦\n",
      "선녀야 야옹해봐!, 햄톨탱크\n",
      "갓!김치, 김민우\n",
      "속삭이는 e로맨스, 최경아\n",
      "호곡, 감대\n"
     ]
    }
   ],
   "source": [
    "for each_title in list(webtoon_info_df['title']):\n",
    "    print(each_title)"
   ]
  },
  {
   "cell_type": "code",
   "execution_count": 121,
   "metadata": {},
   "outputs": [
    {
     "data": {
      "text/plain": [
       "324"
      ]
     },
     "execution_count": 121,
     "metadata": {},
     "output_type": "execute_result"
    }
   ],
   "source": [
    "len(set(list(webtoon_info_df['title'])))"
   ]
  },
  {
   "cell_type": "code",
   "execution_count": null,
   "metadata": {},
   "outputs": [],
   "source": []
  },
  {
   "cell_type": "code",
   "execution_count": null,
   "metadata": {},
   "outputs": [],
   "source": []
  },
  {
   "cell_type": "code",
   "execution_count": null,
   "metadata": {},
   "outputs": [],
   "source": []
  },
  {
   "cell_type": "code",
   "execution_count": null,
   "metadata": {},
   "outputs": [],
   "source": []
  },
  {
   "cell_type": "code",
   "execution_count": null,
   "metadata": {},
   "outputs": [],
   "source": []
  }
 ],
 "metadata": {
  "kernelspec": {
   "display_name": "Python 3",
   "language": "python",
   "name": "python3"
  },
  "language_info": {
   "codemirror_mode": {
    "name": "ipython",
    "version": 3
   },
   "file_extension": ".py",
   "mimetype": "text/x-python",
   "name": "python",
   "nbconvert_exporter": "python",
   "pygments_lexer": "ipython3",
   "version": "3.7.6"
  }
 },
 "nbformat": 4,
 "nbformat_minor": 4
}
