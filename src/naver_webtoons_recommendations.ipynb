{
 "cells": [
  {
   "cell_type": "markdown",
   "metadata": {},
   "source": [
    "#### 1. 네이버 웹툰 추천하기???\n",
    "1. 콘텐츠 기반 필터링 추천 시스템\n",
    "    - 사용자가 특정한 아이템을 선호하는 경우, 그 아이템과 비슷한 아이템을 추천하는 방식\n",
    "\n",
    "2. 최근접 이웃 협업 필터링\n",
    "    - 축적된 사용자 행동 데이터를 기반으로 사용자가 아직 평가하지 않은 아이템을 예측 평가\n",
    "    - 사용자기반 : 당신과 비슷한 고객들이 다음 상품도 구매했음\n",
    "  - 아이템 기반 : 이 상품을 선택한 다른 고객들은 다음 상품도 구매했음\n",
    "  - 일반적으로는 사용자 기반보다는 아이템 기반 협업 필터링이 정확도가 더 높음\n",
    "    - 비슷한 영화를 좋아한다고 취향이 비슷하다고 판단하기 어렵거나\n",
    "    - 매우 유명한 영화는 취향과 관계없이 관람하는 경우가 많고\n",
    "    - 사용자들이 평점을 매기지 않는 경우가 많기 때문\n",
    "    \n",
    "3. 잠재 요인 협업 필터링\n",
    "    - 사용자-아이템 평점 행렬 데이터를 이용해서 '잠재요인'을 도출하는 것\n",
    "    - 주요인과 아이템에 대한 잠재요인에 대해 행렬분해를 하고 다시 행렬곱을 통해 아직 평점을 부여하지 않은 아이템에 대한 예측 평점을 생성하는 것"
   ]
  },
  {
   "cell_type": "code",
   "execution_count": 76,
   "metadata": {
    "scrolled": true
   },
   "outputs": [
    {
     "data": {
      "text/html": [
       "<div>\n",
       "<style scoped>\n",
       "    .dataframe tbody tr th:only-of-type {\n",
       "        vertical-align: middle;\n",
       "    }\n",
       "\n",
       "    .dataframe tbody tr th {\n",
       "        vertical-align: top;\n",
       "    }\n",
       "\n",
       "    .dataframe thead th {\n",
       "        text-align: right;\n",
       "    }\n",
       "</style>\n",
       "<table border=\"1\" class=\"dataframe\">\n",
       "  <thead>\n",
       "    <tr style=\"text-align: right;\">\n",
       "      <th></th>\n",
       "      <th>Unnamed: 0</th>\n",
       "      <th>title</th>\n",
       "      <th>genre</th>\n",
       "      <th>content</th>\n",
       "      <th>age</th>\n",
       "    </tr>\n",
       "  </thead>\n",
       "  <tbody>\n",
       "    <tr>\n",
       "      <th>328</th>\n",
       "      <td>328</td>\n",
       "      <td>그녀의 버킷리스트, 황양&amp;솦</td>\n",
       "      <td>스토리, 드라마</td>\n",
       "      <td>미련없는 죽음을 위한그녀의 완벽한 버킷리스트</td>\n",
       "      <td>12세 이용가</td>\n",
       "    </tr>\n",
       "    <tr>\n",
       "      <th>329</th>\n",
       "      <td>329</td>\n",
       "      <td>선녀야 야옹해봐!, 햄톨탱크</td>\n",
       "      <td>스토리, 로맨스</td>\n",
       "      <td>사랑 인연을 이어주기 위해 지상에 온 선녀 초미.톱스타 강수에게 냥줍을 당하다..!!</td>\n",
       "      <td>전체연령가</td>\n",
       "    </tr>\n",
       "    <tr>\n",
       "      <th>330</th>\n",
       "      <td>330</td>\n",
       "      <td>갓!김치, 김민우</td>\n",
       "      <td>에피소드, 개그</td>\n",
       "      <td>​1000% 신토불이 히어로 등장!</td>\n",
       "      <td>전체연령가</td>\n",
       "    </tr>\n",
       "    <tr>\n",
       "      <th>331</th>\n",
       "      <td>331</td>\n",
       "      <td>속삭이는 e로맨스, 최경아</td>\n",
       "      <td>스토리, 로맨스</td>\n",
       "      <td>불면증에 걸린 남자와 책만 읽으면 모두를 잠들게하는 여자가 만났다.</td>\n",
       "      <td>전체연령가</td>\n",
       "    </tr>\n",
       "    <tr>\n",
       "      <th>332</th>\n",
       "      <td>332</td>\n",
       "      <td>호곡, 감대</td>\n",
       "      <td>스토리, 판타지</td>\n",
       "      <td>'이제 우리 차례야'조선의 왕 '천군'이 사라지고 3년 뒤...한 소녀가 나타나다.</td>\n",
       "      <td>12세 이용가</td>\n",
       "    </tr>\n",
       "  </tbody>\n",
       "</table>\n",
       "</div>"
      ],
      "text/plain": [
       "     Unnamed: 0            title     genre  \\\n",
       "328  328         그녀의 버킷리스트, 황양&솦  스토리, 드라마   \n",
       "329  329         선녀야 야옹해봐!, 햄톨탱크  스토리, 로맨스   \n",
       "330  330         갓!김치, 김민우        에피소드, 개그   \n",
       "331  331         속삭이는 e로맨스, 최경아   스토리, 로맨스   \n",
       "332  332         호곡, 감대           스토리, 판타지   \n",
       "\n",
       "                                             content      age  \n",
       "328  미련없는 죽음을 위한그녀의 완벽한 버킷리스트                         12세 이용가  \n",
       "329  사랑 인연을 이어주기 위해 지상에 온 선녀 초미.톱스타 강수에게 냥줍을 당하다..!!  전체연령가    \n",
       "330  ​1000% 신토불이 히어로 등장!                              전체연령가    \n",
       "331  불면증에 걸린 남자와 책만 읽으면 모두를 잠들게하는 여자가 만났다.            전체연령가    \n",
       "332  '이제 우리 차례야'조선의 왕 '천군'이 사라지고 3년 뒤...한 소녀가 나타나다.   12세 이용가  "
      ]
     },
     "execution_count": 76,
     "metadata": {},
     "output_type": "execute_result"
    }
   ],
   "source": [
    "# 데이터 읽기\n",
    "import pandas as pd\n",
    "\n",
    "pd.set_option('display.max_rows', 500)\n",
    "pd.set_option('display.max_columns', 500)\n",
    "pd.set_option('display.max_colwidth', -1)\n",
    "\n",
    "# load file\n",
    "df_naver = pd.read_csv('naver_webtoon_info.csv')\n",
    "df_naver.tail()"
   ]
  },
  {
   "cell_type": "code",
   "execution_count": 82,
   "metadata": {},
   "outputs": [],
   "source": [
    "# title에서 제목과 작가 분리하기\n",
    "title = df_naver['title'].str.split(',', n=1, expand=True)\n",
    "df_naver['title'] = title[0]\n",
    "df_naver['writer'] = title[1]\n",
    "df_naver.tail()"
   ]
  },
  {
   "cell_type": "code",
   "execution_count": 86,
   "metadata": {
    "scrolled": true
   },
   "outputs": [
    {
     "data": {
      "text/html": [
       "<div>\n",
       "<style scoped>\n",
       "    .dataframe tbody tr th:only-of-type {\n",
       "        vertical-align: middle;\n",
       "    }\n",
       "\n",
       "    .dataframe tbody tr th {\n",
       "        vertical-align: top;\n",
       "    }\n",
       "\n",
       "    .dataframe thead th {\n",
       "        text-align: right;\n",
       "    }\n",
       "</style>\n",
       "<table border=\"1\" class=\"dataframe\">\n",
       "  <thead>\n",
       "    <tr style=\"text-align: right;\">\n",
       "      <th></th>\n",
       "      <th>Unnamed: 0</th>\n",
       "      <th>title</th>\n",
       "      <th>genre</th>\n",
       "      <th>content</th>\n",
       "      <th>age</th>\n",
       "      <th>writer</th>\n",
       "      <th>genres</th>\n",
       "    </tr>\n",
       "  </thead>\n",
       "  <tbody>\n",
       "    <tr>\n",
       "      <th>328</th>\n",
       "      <td>328</td>\n",
       "      <td>그녀의 버킷리스트</td>\n",
       "      <td>스토리, 드라마</td>\n",
       "      <td>미련없는 죽음을 위한그녀의 완벽한 버킷리스트</td>\n",
       "      <td>12세 이용가</td>\n",
       "      <td>황양&amp;솦</td>\n",
       "      <td>스토리 드라마</td>\n",
       "    </tr>\n",
       "    <tr>\n",
       "      <th>329</th>\n",
       "      <td>329</td>\n",
       "      <td>선녀야 야옹해봐!</td>\n",
       "      <td>스토리, 로맨스</td>\n",
       "      <td>사랑 인연을 이어주기 위해 지상에 온 선녀 초미.톱스타 강수에게 냥줍을 당하다..!!</td>\n",
       "      <td>전체연령가</td>\n",
       "      <td>햄톨탱크</td>\n",
       "      <td>스토리 로맨스</td>\n",
       "    </tr>\n",
       "    <tr>\n",
       "      <th>330</th>\n",
       "      <td>330</td>\n",
       "      <td>갓!김치</td>\n",
       "      <td>에피소드, 개그</td>\n",
       "      <td>​1000% 신토불이 히어로 등장!</td>\n",
       "      <td>전체연령가</td>\n",
       "      <td>김민우</td>\n",
       "      <td>에피소드 개그</td>\n",
       "    </tr>\n",
       "    <tr>\n",
       "      <th>331</th>\n",
       "      <td>331</td>\n",
       "      <td>속삭이는 e로맨스</td>\n",
       "      <td>스토리, 로맨스</td>\n",
       "      <td>불면증에 걸린 남자와 책만 읽으면 모두를 잠들게하는 여자가 만났다.</td>\n",
       "      <td>전체연령가</td>\n",
       "      <td>최경아</td>\n",
       "      <td>스토리 로맨스</td>\n",
       "    </tr>\n",
       "    <tr>\n",
       "      <th>332</th>\n",
       "      <td>332</td>\n",
       "      <td>호곡</td>\n",
       "      <td>스토리, 판타지</td>\n",
       "      <td>'이제 우리 차례야'조선의 왕 '천군'이 사라지고 3년 뒤...한 소녀가 나타나다.</td>\n",
       "      <td>12세 이용가</td>\n",
       "      <td>감대</td>\n",
       "      <td>스토리 판타지</td>\n",
       "    </tr>\n",
       "  </tbody>\n",
       "</table>\n",
       "</div>"
      ],
      "text/plain": [
       "     Unnamed: 0      title     genre  \\\n",
       "328  328         그녀의 버킷리스트  스토리, 드라마   \n",
       "329  329         선녀야 야옹해봐!  스토리, 로맨스   \n",
       "330  330         갓!김치       에피소드, 개그   \n",
       "331  331         속삭이는 e로맨스  스토리, 로맨스   \n",
       "332  332         호곡         스토리, 판타지   \n",
       "\n",
       "                                             content      age writer   genres  \n",
       "328  미련없는 죽음을 위한그녀의 완벽한 버킷리스트                         12세 이용가   황양&솦  스토리 드라마  \n",
       "329  사랑 인연을 이어주기 위해 지상에 온 선녀 초미.톱스타 강수에게 냥줍을 당하다..!!  전체연령가     햄톨탱크  스토리 로맨스  \n",
       "330  ​1000% 신토불이 히어로 등장!                              전체연령가     김민우   에피소드 개그  \n",
       "331  불면증에 걸린 남자와 책만 읽으면 모두를 잠들게하는 여자가 만났다.            전체연령가     최경아   스토리 로맨스  \n",
       "332  '이제 우리 차례야'조선의 왕 '천군'이 사라지고 3년 뒤...한 소녀가 나타나다.   12세 이용가   감대    스토리 판타지  "
      ]
     },
     "execution_count": 86,
     "metadata": {},
     "output_type": "execute_result"
    }
   ],
   "source": [
    "# genre의 각 단어들을 하나의 문장(띄어쓰기로 구분된)으로 변환\n",
    "# 장르를 , 기준으로 나눈 후 다시 합치기\n",
    "df_naver['genres'] = df_naver['genre'].str.split(',')\n",
    "df_naver['genres'] = df_naver['genres'].apply(lambda x: ('').join(x))\n",
    "df_naver.tail()"
   ]
  },
  {
   "cell_type": "code",
   "execution_count": 87,
   "metadata": {},
   "outputs": [
    {
     "name": "stdout",
     "output_type": "stream",
     "text": [
      "(333, 36)\n"
     ]
    }
   ],
   "source": [
    "# 문자열로 변환된 genres를 CountVectorize 수행\n",
    "from sklearn.feature_extraction.text import CountVectorizer\n",
    "\n",
    "# min_df : 0.0, 1.0 사이의 실수, 디폴트 1, 단어장에 포함되기 위한 최소 빈도\n",
    "# ngram_range : (min_n, max_n) 튜플, n-gram 범위\n",
    "count_vect = CountVectorizer(min_df=0, ngram_range=(1,2))\n",
    "genre_mat = count_vect.fit_transform(df_naver['genres'])\n",
    "print(genre_mat.shape)"
   ]
  },
  {
   "cell_type": "code",
   "execution_count": 88,
   "metadata": {
    "collapsed": true
   },
   "outputs": [
    {
     "name": "stdout",
     "output_type": "stream",
     "text": [
      "(333, 333)\n",
      "[[1.         0.33333333 0.         0.33333333 0.33333333 0.\n",
      "  0.33333333 0.         0.33333333 0.33333333 0.         0.33333333\n",
      "  0.33333333 0.33333333 0.33333333 1.         0.33333333 1.\n",
      "  0.33333333 0.33333333 0.33333333 0.33333333 0.33333333 0.33333333\n",
      "  0.33333333 0.33333333 0.33333333 0.33333333 0.33333333 0.33333333\n",
      "  0.         0.         0.33333333 0.33333333 0.33333333 1.\n",
      "  0.33333333 0.33333333 0.33333333 0.33333333 0.33333333 0.\n",
      "  0.33333333 0.         0.33333333 0.33333333 1.         0.33333333\n",
      "  1.         0.33333333 0.         0.33333333 0.33333333 0.33333333\n",
      "  1.         0.33333333 0.33333333 1.         0.33333333 1.\n",
      "  0.33333333 0.33333333 0.         0.33333333 1.         1.\n",
      "  0.         1.         0.33333333 0.33333333 0.         1.\n",
      "  0.         0.33333333 0.33333333 1.         0.33333333 0.33333333\n",
      "  0.33333333 0.         0.33333333 0.33333333 0.33333333 0.33333333\n",
      "  0.33333333 0.33333333 0.33333333 0.33333333 0.33333333 0.33333333\n",
      "  0.33333333 0.33333333 0.33333333 0.33333333 0.33333333 0.33333333\n",
      "  0.         0.33333333 0.33333333 0.33333333 0.33333333 0.\n",
      "  0.33333333 1.         0.33333333 0.33333333 0.33333333 0.33333333\n",
      "  0.         0.         0.33333333 0.33333333 1.         0.33333333\n",
      "  0.33333333 0.33333333 1.         0.33333333 0.33333333 0.33333333\n",
      "  0.33333333 0.33333333 0.33333333 0.33333333 0.         0.\n",
      "  0.33333333 1.         1.         0.         0.         0.33333333\n",
      "  0.33333333 0.33333333 0.33333333 0.33333333 1.         0.33333333\n",
      "  0.33333333 0.33333333 0.33333333 0.33333333 0.33333333 0.33333333\n",
      "  0.         0.33333333 0.33333333 0.33333333 0.33333333 0.33333333\n",
      "  1.         0.33333333 1.         1.         1.         0.\n",
      "  0.33333333 1.         0.33333333 0.         0.         0.33333333\n",
      "  0.33333333 1.         0.33333333 0.33333333 0.33333333 0.33333333\n",
      "  0.         0.33333333 0.33333333 0.33333333 0.33333333 1.\n",
      "  0.33333333 0.33333333 0.33333333 0.33333333 1.         0.33333333\n",
      "  0.33333333 0.33333333 0.33333333 0.33333333 1.         0.33333333\n",
      "  0.33333333 0.         0.33333333 1.         0.33333333 0.33333333\n",
      "  0.33333333 0.33333333 1.         0.33333333 0.33333333 0.33333333\n",
      "  0.33333333 0.         0.         1.         0.33333333 1.\n",
      "  0.33333333 1.         0.33333333 0.33333333 0.33333333 0.33333333\n",
      "  0.33333333 0.33333333 0.33333333 1.         0.33333333 0.33333333\n",
      "  0.33333333 0.         0.33333333 0.33333333 0.33333333 0.\n",
      "  0.33333333 1.         0.33333333 0.         0.33333333 0.33333333\n",
      "  0.33333333 0.33333333 0.33333333 0.33333333 0.33333333 1.\n",
      "  0.33333333 0.33333333 0.33333333 0.33333333 0.         0.33333333\n",
      "  0.         1.         0.33333333 0.33333333 1.         0.\n",
      "  0.         1.         0.33333333 0.33333333 0.33333333 0.33333333\n",
      "  0.33333333 0.         0.33333333 0.33333333 0.33333333 0.\n",
      "  0.33333333 0.33333333 1.         0.33333333 0.33333333 0.33333333\n",
      "  0.33333333 0.33333333 0.33333333 0.33333333 0.33333333 0.33333333\n",
      "  0.33333333 0.33333333 0.33333333 0.33333333 0.33333333 0.33333333\n",
      "  1.         0.33333333 0.33333333 0.33333333 0.33333333 1.\n",
      "  0.         0.33333333 1.         0.         1.         0.33333333\n",
      "  1.         0.33333333 0.         0.33333333 0.33333333 0.33333333\n",
      "  0.         0.33333333 0.         0.33333333 0.33333333 0.33333333\n",
      "  1.         0.33333333 0.33333333 0.33333333 0.         1.\n",
      "  0.         1.         1.         0.         0.33333333 0.33333333\n",
      "  0.33333333 1.         0.33333333 0.         0.33333333 0.33333333\n",
      "  0.33333333 0.         1.         0.33333333 0.33333333 0.33333333\n",
      "  0.33333333 0.33333333 0.33333333 0.33333333 0.33333333 0.33333333\n",
      "  0.         0.33333333 1.        ]]\n"
     ]
    }
   ],
   "source": [
    "# 문장의 유사도 측정을 하는 방법 중 하나인 코사인 유사도 측정을 수행\n",
    "from sklearn.metrics.pairwise import cosine_similarity\n",
    "\n",
    "genre_sim = cosine_similarity(genre_mat, genre_mat)\n",
    "print(genre_sim.shape)\n",
    "print(genre_sim[:1])"
   ]
  },
  {
   "cell_type": "code",
   "execution_count": 89,
   "metadata": {
    "scrolled": true
   },
   "outputs": [
    {
     "name": "stdout",
     "output_type": "stream",
     "text": [
      "[[332 153 157 163 173 178 184 189 194 201 203 205 213 223 233 241 244 247\n",
      "  260 276 281 154 152 286 150  15  17  35  46  48  54  57  59  64  65  67\n",
      "   71  75 103 112 116 127 128 136 284   0 305 320 288 307 308 300 313  98\n",
      "   99 100 102 287 317  97 105 106 107 110 111 104  94  95 113  93  92  91\n",
      "   90  89  88  87  86  85  84  83 316 117 114 312 151 311 149 148 147 146\n",
      "  145 142 141 140 139 138 137 135 115 134 133 132 131 314 126 123 122 121\n",
      "  120 119 118  81  82  78  80  20 328  34  33  32  29  28  27  26  25  24\n",
      "   23  22  21  19  37  18 329  16  14  13  12  11   9   8   6   4   3   1\n",
      "   36  38  77 324  76 318  74  73  69  68 321 322  63  61  60 323  58  56\n",
      "   39  55 325  53  52  51  49 326  47 327  45  44  42  40 310 143 222 230\n",
      "  248 292 293 243 242 239 237 236 235 234 295 232 231 229 209 228 227 226\n",
      "  224 220 219 218 216 215 214 297 212 211 249 250 251 252 283 289 280 279\n",
      "  278 277 275 274 273 272 271 270 269 268 267 266 265 264 263 262 261 291\n",
      "  259 258 256 255 254 210 166 208 192 190 302 188 186 185 303 207 182 181\n",
      "  180 179 177 176 175 174 172 171 170 169 167 331 165 164 162 161 158 156\n",
      "  191 183 198 197 206 299 193 298 202 196 195 204 301 217 200 144 168 101\n",
      "  199  79 221 285  62 330 306 309  10  96 160   7 159   5 282   2 290  30\n",
      "  296  70 109 108 238 315 240 294 187  66  50 245 246  43 225 319  41 124\n",
      "  125 253  72 304 257 129 130  31 155]]\n"
     ]
    }
   ],
   "source": [
    "# genre_sim 객체에서 높은 값 순으로 정렬\n",
    "genre_sim_sorted_ind = genre_sim.argsort()[:, ::-1]\n",
    "print(genre_sim_sorted_ind[:1])"
   ]
  },
  {
   "cell_type": "code",
   "execution_count": 90,
   "metadata": {},
   "outputs": [],
   "source": [
    "# 추천 웹툰을 DataFrame으로 반환하는 함수\n",
    "def find_sim_webtoon(df, sorted_ind, title_name, top_n=10):\n",
    "    title_webtoon = df_naver[df_naver['title'] == title_name]\n",
    "    \n",
    "    title_index = title_webtoon.index.values\n",
    "    similar_indexes = sorted_ind[title_index, :(top_n)]\n",
    "    \n",
    "    print(similar_indexes)\n",
    "    similar_indexes = similar_indexes.reshape(-1)\n",
    "    \n",
    "    return df.iloc[similar_indexes]"
   ]
  },
  {
   "cell_type": "code",
   "execution_count": 92,
   "metadata": {},
   "outputs": [
    {
     "name": "stdout",
     "output_type": "stream",
     "text": [
      "[[166 251 122 126  69 198 262 263 265 196]]\n"
     ]
    },
    {
     "data": {
      "text/html": [
       "<div>\n",
       "<style scoped>\n",
       "    .dataframe tbody tr th:only-of-type {\n",
       "        vertical-align: middle;\n",
       "    }\n",
       "\n",
       "    .dataframe tbody tr th {\n",
       "        vertical-align: top;\n",
       "    }\n",
       "\n",
       "    .dataframe thead th {\n",
       "        text-align: right;\n",
       "    }\n",
       "</style>\n",
       "<table border=\"1\" class=\"dataframe\">\n",
       "  <thead>\n",
       "    <tr style=\"text-align: right;\">\n",
       "      <th></th>\n",
       "      <th>title</th>\n",
       "      <th>content</th>\n",
       "      <th>genre</th>\n",
       "    </tr>\n",
       "  </thead>\n",
       "  <tbody>\n",
       "    <tr>\n",
       "      <th>166</th>\n",
       "      <td>킬더킹</td>\n",
       "      <td>왕의 재능이란 무엇일까?왕좌의 새로운 주인, 진정한 왕에 걸맞는 재능을 가려내는 게임이 시작된다!</td>\n",
       "      <td>스토리, 드라마</td>\n",
       "    </tr>\n",
       "    <tr>\n",
       "      <th>251</th>\n",
       "      <td>나를 바꿔줘</td>\n",
       "      <td>인생을 바꾸기 위해 얼굴을 훔치다</td>\n",
       "      <td>스토리, 드라마</td>\n",
       "    </tr>\n",
       "    <tr>\n",
       "      <th>122</th>\n",
       "      <td>정순애 식당</td>\n",
       "      <td>미각을 잃은 사람도 이곳에 오면 \"맛있다\"를 외칩니다!!따뜻한 집밥과 사람 사는 냄새가 나는 힐링공간 정순애식당에 어서오세요~</td>\n",
       "      <td>스토리, 드라마</td>\n",
       "    </tr>\n",
       "    <tr>\n",
       "      <th>126</th>\n",
       "      <td>오라존미</td>\n",
       "      <td>만화를 그리는 작가와 만화를 말하는 작가.</td>\n",
       "      <td>스토리, 드라마</td>\n",
       "    </tr>\n",
       "    <tr>\n",
       "      <th>69</th>\n",
       "      <td>견우와 선녀</td>\n",
       "      <td>죽음이 가까워진 사람들은 '거꾸로' 걸어들어 온다그리고 그게 하필 내 이상형이라니!?</td>\n",
       "      <td>스토리, 드라마</td>\n",
       "    </tr>\n",
       "    <tr>\n",
       "      <th>198</th>\n",
       "      <td>1초</td>\n",
       "      <td>구조율 100%의 전설적인 소방관​그의 특별한 능력은 무엇인가?</td>\n",
       "      <td>스토리, 드라마</td>\n",
       "    </tr>\n",
       "    <tr>\n",
       "      <th>262</th>\n",
       "      <td>고인의 명복</td>\n",
       "      <td>이승과 저승, 삶과 죽음을 둘러싼한국형 미스터리 판타지</td>\n",
       "      <td>스토리, 드라마</td>\n",
       "    </tr>\n",
       "    <tr>\n",
       "      <th>263</th>\n",
       "      <td>왕세자 입학도</td>\n",
       "      <td>조선 후기, 성균관에 자그마한 신참이 들어온다! 모종의 이유로 정체를 숨기고 성균관 유생이 된 왕세자가 보고 겪는 체험! 민중의 현장!</td>\n",
       "      <td>스토리, 드라마</td>\n",
       "    </tr>\n",
       "    <tr>\n",
       "      <th>265</th>\n",
       "      <td>누군가의 로섬</td>\n",
       "      <td>로섬이란 남자, 정체가 궁금하다.</td>\n",
       "      <td>스토리, 드라마</td>\n",
       "    </tr>\n",
       "    <tr>\n",
       "      <th>196</th>\n",
       "      <td>닥터 프로스트 시즌 3~4</td>\n",
       "      <td>세상으로부터의 무력감. 엄습하는 두려움. 또다시 덧씌운 분노.끝없는 혐오의 고리로 만들어진 지옥도가 펼쳐진 대한민국.닥터프로스트와 그의 제자 윤성아가 거대한 음모를 막아선다.</td>\n",
       "      <td>스토리, 드라마</td>\n",
       "    </tr>\n",
       "  </tbody>\n",
       "</table>\n",
       "</div>"
      ],
      "text/plain": [
       "              title  \\\n",
       "166  킬더킹              \n",
       "251  나를 바꿔줘           \n",
       "122  정순애 식당           \n",
       "126  오라존미             \n",
       "69   견우와 선녀           \n",
       "198  1초               \n",
       "262  고인의 명복           \n",
       "263  왕세자 입학도          \n",
       "265  누군가의 로섬          \n",
       "196  닥터 프로스트 시즌 3~4   \n",
       "\n",
       "                                                                                               content  \\\n",
       "166  왕의 재능이란 무엇일까?왕좌의 새로운 주인, 진정한 왕에 걸맞는 재능을 가려내는 게임이 시작된다!                                              \n",
       "251  인생을 바꾸기 위해 얼굴을 훔치다                                                                                  \n",
       "122  미각을 잃은 사람도 이곳에 오면 \"맛있다\"를 외칩니다!!따뜻한 집밥과 사람 사는 냄새가 나는 힐링공간 정순애식당에 어서오세요~                              \n",
       "126  만화를 그리는 작가와 만화를 말하는 작가.                                                                             \n",
       "69   죽음이 가까워진 사람들은 '거꾸로' 걸어들어 온다그리고 그게 하필 내 이상형이라니!?                                                     \n",
       "198  구조율 100%의 전설적인 소방관​그의 특별한 능력은 무엇인가?                                                                 \n",
       "262  이승과 저승, 삶과 죽음을 둘러싼한국형 미스터리 판타지                                                                      \n",
       "263  조선 후기, 성균관에 자그마한 신참이 들어온다! 모종의 이유로 정체를 숨기고 성균관 유생이 된 왕세자가 보고 겪는 체험! 민중의 현장!                         \n",
       "265  로섬이란 남자, 정체가 궁금하다.                                                                                  \n",
       "196  세상으로부터의 무력감. 엄습하는 두려움. 또다시 덧씌운 분노.끝없는 혐오의 고리로 만들어진 지옥도가 펼쳐진 대한민국.닥터프로스트와 그의 제자 윤성아가 거대한 음모를 막아선다.   \n",
       "\n",
       "        genre  \n",
       "166  스토리, 드라마  \n",
       "251  스토리, 드라마  \n",
       "122  스토리, 드라마  \n",
       "126  스토리, 드라마  \n",
       "69   스토리, 드라마  \n",
       "198  스토리, 드라마  \n",
       "262  스토리, 드라마  \n",
       "263  스토리, 드라마  \n",
       "265  스토리, 드라마  \n",
       "196  스토리, 드라마  "
      ]
     },
     "execution_count": 92,
     "metadata": {},
     "output_type": "execute_result"
    }
   ],
   "source": [
    "title_webtoon = find_sim_webtoon(df_naver, genre_sim_sorted_ind, '그녀의 버킷리스트', 10)\n",
    "title_webtoon[['title', 'content', 'genre']]"
   ]
  },
  {
   "cell_type": "code",
   "execution_count": null,
   "metadata": {},
   "outputs": [],
   "source": []
  },
  {
   "cell_type": "code",
   "execution_count": null,
   "metadata": {},
   "outputs": [],
   "source": []
  },
  {
   "cell_type": "code",
   "execution_count": null,
   "metadata": {},
   "outputs": [],
   "source": []
  },
  {
   "cell_type": "code",
   "execution_count": null,
   "metadata": {},
   "outputs": [],
   "source": []
  },
  {
   "cell_type": "code",
   "execution_count": null,
   "metadata": {},
   "outputs": [],
   "source": []
  },
  {
   "cell_type": "code",
   "execution_count": null,
   "metadata": {},
   "outputs": [],
   "source": []
  },
  {
   "cell_type": "code",
   "execution_count": null,
   "metadata": {},
   "outputs": [],
   "source": []
  },
  {
   "cell_type": "code",
   "execution_count": null,
   "metadata": {},
   "outputs": [],
   "source": []
  },
  {
   "cell_type": "code",
   "execution_count": null,
   "metadata": {},
   "outputs": [],
   "source": []
  },
  {
   "cell_type": "code",
   "execution_count": null,
   "metadata": {},
   "outputs": [],
   "source": []
  },
  {
   "cell_type": "code",
   "execution_count": null,
   "metadata": {},
   "outputs": [],
   "source": []
  },
  {
   "cell_type": "code",
   "execution_count": null,
   "metadata": {},
   "outputs": [],
   "source": []
  },
  {
   "cell_type": "code",
   "execution_count": null,
   "metadata": {},
   "outputs": [],
   "source": []
  }
 ],
 "metadata": {
  "kernelspec": {
   "display_name": "Python 3",
   "language": "python",
   "name": "python3"
  },
  "language_info": {
   "codemirror_mode": {
    "name": "ipython",
    "version": 3
   },
   "file_extension": ".py",
   "mimetype": "text/x-python",
   "name": "python",
   "nbconvert_exporter": "python",
   "pygments_lexer": "ipython3",
   "version": "3.7.6"
  },
  "toc": {
   "base_numbering": 1,
   "nav_menu": {},
   "number_sections": true,
   "sideBar": true,
   "skip_h1_title": false,
   "title_cell": "Table of Contents",
   "title_sidebar": "Contents",
   "toc_cell": false,
   "toc_position": {},
   "toc_section_display": true,
   "toc_window_display": false
  },
  "varInspector": {
   "cols": {
    "lenName": 16,
    "lenType": 16,
    "lenVar": 40
   },
   "kernels_config": {
    "python": {
     "delete_cmd_postfix": "",
     "delete_cmd_prefix": "del ",
     "library": "var_list.py",
     "varRefreshCmd": "print(var_dic_list())"
    },
    "r": {
     "delete_cmd_postfix": ") ",
     "delete_cmd_prefix": "rm(",
     "library": "var_list.r",
     "varRefreshCmd": "cat(var_dic_list()) "
    }
   },
   "types_to_exclude": [
    "module",
    "function",
    "builtin_function_or_method",
    "instance",
    "_Feature"
   ],
   "window_display": false
  }
 },
 "nbformat": 4,
 "nbformat_minor": 4
}
