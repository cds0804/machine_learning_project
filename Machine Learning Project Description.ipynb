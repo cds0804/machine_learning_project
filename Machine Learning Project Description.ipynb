{
 "cells": [
  {
   "cell_type": "markdown",
   "metadata": {
    "slideshow": {
     "slide_type": "skip"
    }
   },
   "source": [
    "**사업 계획서(팀만의 가치를 찾는 작업이 필수)**\n",
    " - 능력 발휘 120%정도 \n",
    "1. 내가 할 주제\n",
    "2. 주제의 소개 \n",
    " - 로컬 시장 규모\n",
    " - 글로벌 시장 규모\n",
    " - 1, 2, 3등 회사 \n",
    "3. 머신러닝을 진행한 후 매출에 기여할 기대 효과\n",
    " - 영향을 미칠 수 있는 가능성\n",
    "4. raw data의 간단한 분석\n",
    "5. crawling해도 괜찮고, \n",
    " - kaggle data도 괜찮으나, 케글을 사용할 경우, kernal과는 다른 특징을 찾아야 함"
   ]
  },
  {
   "cell_type": "markdown",
   "metadata": {
    "slideshow": {
     "slide_type": "slide"
    }
   },
   "source": [
    "**머신러닝 프로젝트 5조**\n",
    "- 조대선, 송이준, 이진주\n",
    "- 웹툰 그림체 분류 및 유저 성향 파악 머신러닝"
   ]
  },
  {
   "cell_type": "markdown",
   "metadata": {
    "slideshow": {
     "slide_type": "slide"
    }
   },
   "source": [
    "**사업계획서**"
   ]
  },
  {
   "cell_type": "markdown",
   "metadata": {
    "slideshow": {
     "slide_type": "-"
    }
   },
   "source": [
    "**1. 주제**\n",
    "- 그림체 분류(clustering)\n",
    "- 그림체가 비슷한 다른 플랫폼의 웹툰, 애니매이션 추천"
   ]
  },
  {
   "cell_type": "markdown",
   "metadata": {
    "slideshow": {
     "slide_type": "skip"
    }
   },
   "source": [
    "**추가 주제**\n",
    "- 웹툰 내부의 상품과 유사한 실제제품 추천"
   ]
  },
  {
   "cell_type": "markdown",
   "metadata": {
    "slideshow": {
     "slide_type": "slide"
    }
   },
   "source": [
    "**다음웹툰 그림체 예시**"
   ]
  },
  {
   "cell_type": "markdown",
   "metadata": {
    "slideshow": {
     "slide_type": "-"
    }
   },
   "source": [
    "![그림체](./img/image1.png)"
   ]
  },
  {
   "cell_type": "markdown",
   "metadata": {
    "slideshow": {
     "slide_type": "slide"
    }
   },
   "source": [
    "**다음웹툰 그림체 예시**"
   ]
  },
  {
   "cell_type": "markdown",
   "metadata": {
    "slideshow": {
     "slide_type": "-"
    }
   },
   "source": [
    "![그림체](./img/image2.png)"
   ]
  },
  {
   "cell_type": "markdown",
   "metadata": {
    "slideshow": {
     "slide_type": "slide"
    }
   },
   "source": [
    "**2. 주제의 소개**\n",
    "- 1) 웹툰의 썸네일로 그림체 분류\n",
    "    - KMeans clustering\n",
    "- 2) 그림체로 다른 플랫폼의 웹툰, 애니메이션 추천\n",
    "    - 딜리헙(웹툰), 애니메이션(라프텔) 등\n",
    "- 3) 웹 사이트로 서비스 구현\n",
    "    - 웹툰 이미지를 넣으면 비슷한 그림체의 웹툰과 애니매이션을 찾아줌\n",
    " \n",
    "**추가 목표**\n",
    "- 1) 그림체 + 웹툰소개 + 장르 + 이용연령 + 베스트댓글 머신러닝\n",
    "    - 특정 그림체를 선호하는 유저의 성향 파악"
   ]
  },
  {
   "cell_type": "markdown",
   "metadata": {
    "slideshow": {
     "slide_type": "skip"
    }
   },
   "source": [
    "**추가 진행**\n",
    "- 2) 웹툰 내부의 상품과 유사한 실제 제품을 추천\n",
    "    - 웹툰 이미지를 구글, 카카오 api로 분석해서 나온 단어들을 쇼핑몰 키워드에 연결하는 방식"
   ]
  },
  {
   "cell_type": "markdown",
   "metadata": {
    "slideshow": {
     "slide_type": "slide"
    }
   },
   "source": [
    "**웹툰 플랫폼 규모**"
   ]
  },
  {
   "cell_type": "markdown",
   "metadata": {
    "slideshow": {
     "slide_type": "-"
    }
   },
   "source": [
    "![웹툰 플랫폼](./img/webtoonplatform.png)"
   ]
  },
  {
   "cell_type": "markdown",
   "metadata": {
    "slideshow": {
     "slide_type": "slide"
    }
   },
   "source": [
    "**웹툰 로컬 시장 규모**"
   ]
  },
  {
   "cell_type": "markdown",
   "metadata": {
    "slideshow": {
     "slide_type": "-"
    }
   },
   "source": [
    "![국내 웹툰 기업들의 매출](./img/domestic2.png)"
   ]
  },
  {
   "cell_type": "markdown",
   "metadata": {
    "slideshow": {
     "slide_type": "slide"
    }
   },
   "source": [
    "**웹툰 글로벌 시장 규모**"
   ]
  },
  {
   "cell_type": "markdown",
   "metadata": {
    "scrolled": false,
    "slideshow": {
     "slide_type": "-"
    }
   },
   "source": [
    "![웹툰 글로벌 시장 규모](./img/world1.png)"
   ]
  },
  {
   "cell_type": "markdown",
   "metadata": {
    "slideshow": {
     "slide_type": "slide"
    }
   },
   "source": [
    "**웹툰 국내 메이저 회사**"
   ]
  },
  {
   "cell_type": "markdown",
   "metadata": {
    "slideshow": {
     "slide_type": "-"
    }
   },
   "source": [
    "![네이버웹툰 카카오페이지 기업 개요](./img/company1.png)"
   ]
  },
  {
   "cell_type": "markdown",
   "metadata": {
    "slideshow": {
     "slide_type": "slide"
    }
   },
   "source": [
    "**3. 머신러닝을 진행한 후 매출에 기여할 기대 효과**\n",
    "\n",
    "![기대 효과](./img/effect1.png)"
   ]
  },
  {
   "cell_type": "markdown",
   "metadata": {
    "slideshow": {
     "slide_type": "slide"
    }
   },
   "source": [
    "- 메이저 업체에 집중되어있는 유저에게 다른 웹툰 플랫폼을 추천\n",
    "\n",
    "- 메이저 업체의 횡포를 줄임"
   ]
  },
  {
   "cell_type": "markdown",
   "metadata": {},
   "source": [
    "- 캐릭터 상품 추천\n",
    "\n",
    "- 매출 다각화 및 여러 분야의 매출 증대 효과 발생 예상\n",
    "    - 웹툰 작가 \n",
    "    - 웹툰 업체 \n",
    "    - 의류 업체 \n",
    "    - 미용 업체\n",
    "    - 인테리어 업체\n",
    "    - 익스테리어 업체"
   ]
  },
  {
   "cell_type": "markdown",
   "metadata": {
    "slideshow": {
     "slide_type": "slide"
    }
   },
   "source": [
    "**매출 계획**\n",
    "- 소셜커머스(쿠팡, 위메프, 티몬)업체 혹은 있다면 의류대여업체 등과 조인하여 판매 및 구독서비스 진행"
   ]
  }
 ],
 "metadata": {
  "celltoolbar": "Slideshow",
  "kernelspec": {
   "display_name": "Python 3",
   "language": "python",
   "name": "python3"
  },
  "language_info": {
   "codemirror_mode": {
    "name": "ipython",
    "version": 3
   },
   "file_extension": ".py",
   "mimetype": "text/x-python",
   "name": "python",
   "nbconvert_exporter": "python",
   "pygments_lexer": "ipython3",
   "version": "3.7.4"
  },
  "toc": {
   "base_numbering": 1,
   "nav_menu": {},
   "number_sections": false,
   "sideBar": true,
   "skip_h1_title": false,
   "title_cell": "Table of Contents",
   "title_sidebar": "Contents",
   "toc_cell": false,
   "toc_position": {},
   "toc_section_display": true,
   "toc_window_display": false
  },
  "varInspector": {
   "cols": {
    "lenName": 16,
    "lenType": 16,
    "lenVar": 40
   },
   "kernels_config": {
    "python": {
     "delete_cmd_postfix": "",
     "delete_cmd_prefix": "del ",
     "library": "var_list.py",
     "varRefreshCmd": "print(var_dic_list())"
    },
    "r": {
     "delete_cmd_postfix": ") ",
     "delete_cmd_prefix": "rm(",
     "library": "var_list.r",
     "varRefreshCmd": "cat(var_dic_list()) "
    }
   },
   "types_to_exclude": [
    "module",
    "function",
    "builtin_function_or_method",
    "instance",
    "_Feature"
   ],
   "window_display": false
  }
 },
 "nbformat": 4,
 "nbformat_minor": 2
}
