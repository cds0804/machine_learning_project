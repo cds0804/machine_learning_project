{
 "cells": [
  {
   "cell_type": "markdown",
   "metadata": {},
   "source": [
    "## 네이버 댓글 크롤링 -> 웹툰별로 댓글 모두 하나로 합치기 "
   ]
  },
  {
   "cell_type": "code",
   "execution_count": 1,
   "metadata": {},
   "outputs": [],
   "source": [
    "reply = pd.read_csv('./crawling/naver/naver_best_comment.csv')\n",
    "# col = ['title', 'content', 'genre', 'age', 'no', 'comments']\n",
    "# rp = reply[col]\n",
    "# rp\n",
    "# reply"
   ]
  },
  {
   "cell_type": "code",
   "execution_count": 2,
   "metadata": {},
   "outputs": [
    {
     "name": "stdout",
     "output_type": "stream",
     "text": [
      "<class 'pandas.core.frame.DataFrame'>\n",
      "RangeIndex: 28833 entries, 0 to 28832\n",
      "Data columns (total 8 columns):\n",
      " #   Column    Non-Null Count  Dtype \n",
      "---  ------    --------------  ----- \n",
      " 0   title     28833 non-null  object\n",
      " 1   weekday   28833 non-null  object\n",
      " 2   last      28833 non-null  int64 \n",
      " 3   content   28833 non-null  object\n",
      " 4   genre     28833 non-null  object\n",
      " 5   age       28833 non-null  int64 \n",
      " 6   no        28833 non-null  int64 \n",
      " 7   comments  28831 non-null  object\n",
      "dtypes: int64(3), object(5)\n",
      "memory usage: 1.8+ MB\n"
     ]
    }
   ],
   "source": [
    "reply.info()"
   ]
  },
  {
   "cell_type": "code",
   "execution_count": 3,
   "metadata": {},
   "outputs": [],
   "source": [
    "reply = reply.dropna()\n",
    "reply = reply.reset_index()\n",
    "reply = reply.drop(columns='index')"
   ]
  },
  {
   "cell_type": "code",
   "execution_count": 4,
   "metadata": {},
   "outputs": [],
   "source": [
    "new_data = []\n",
    "comments = \"\"\n",
    "\n",
    "for i, row in reply.iterrows():\n",
    "    if (row['title'] != reply.iloc[i - 1]['title']) and i != 0:\n",
    "        prior_row = reply.iloc[i - 1]\n",
    "        \n",
    "        refactor_dict = {\n",
    "        'title': prior_row['title'],\n",
    "        'weekday':prior_row['weekday'],\n",
    "        'last': prior_row['last'],\n",
    "        'content': prior_row['content'],\n",
    "        'genre': prior_row['genre'],\n",
    "        'age': prior_row['age'],\n",
    "        'comments': comments,\n",
    "        }\n",
    "        \n",
    "        new_data.append(refactor_dict)\n",
    "        comments = \"\"\n",
    "        \n",
    "    comments = comments + ', ' + row['comments']\n",
    "    \n",
    "    if i == len(reply) - 1:\n",
    "        comments = comments + ', ' + row['comments']\n",
    "        \n",
    "        refactor_dict = {\n",
    "        'title': row['title'],\n",
    "        'weekday':row['weekday'],\n",
    "        'last': row['last'],\n",
    "        'content': row['content'],\n",
    "        'genre': row['genre'],\n",
    "        'age': row['age'],\n",
    "        'comments': comments,\n",
    "        }\n",
    "        \n",
    "        new_data.append(refactor_dict)\n",
    "    "
   ]
  },
  {
   "cell_type": "code",
   "execution_count": 5,
   "metadata": {},
   "outputs": [],
   "source": [
    "comments_df = pd.DataFrame(new_data, columns=['title', 'weekday', 'last', 'content', 'genre', 'age', 'comments'])\n",
    "comments_df['comments'] = comments_df['comments'].apply(lambda x: x.replace(\", \", \"|||\"))"
   ]
  },
  {
   "cell_type": "code",
   "execution_count": 8,
   "metadata": {},
   "outputs": [
    {
     "data": {
      "text/html": [
       "<div>\n",
       "<style scoped>\n",
       "    .dataframe tbody tr th:only-of-type {\n",
       "        vertical-align: middle;\n",
       "    }\n",
       "\n",
       "    .dataframe tbody tr th {\n",
       "        vertical-align: top;\n",
       "    }\n",
       "\n",
       "    .dataframe thead th {\n",
       "        text-align: right;\n",
       "    }\n",
       "</style>\n",
       "<table border=\"1\" class=\"dataframe\">\n",
       "  <thead>\n",
       "    <tr style=\"text-align: right;\">\n",
       "      <th></th>\n",
       "      <th>title</th>\n",
       "      <th>weekday</th>\n",
       "      <th>last</th>\n",
       "      <th>content</th>\n",
       "      <th>genre</th>\n",
       "      <th>age</th>\n",
       "      <th>comments</th>\n",
       "    </tr>\n",
       "  </thead>\n",
       "  <tbody>\n",
       "    <tr>\n",
       "      <th>320</th>\n",
       "      <td>헬퍼 2 : 킬베로스</td>\n",
       "      <td>wed</td>\n",
       "      <td>223</td>\n",
       "      <td>역시는 역시 역시군.킬베로스 트라이브의 대장 장광남이 펼치는 스트릿 액션 만화.</td>\n",
       "      <td>스토리, 액션</td>\n",
       "      <td>18</td>\n",
       "      <td>|||오셨다 올리자|||오셧다 올려드려라 뭐하냐 얘들아 우리의 화력을보여주자 배댓 ...</td>\n",
       "    </tr>\n",
       "    <tr>\n",
       "      <th>321</th>\n",
       "      <td>사냥개들</td>\n",
       "      <td>fri</td>\n",
       "      <td>52</td>\n",
       "      <td>빚 때문에 얽힌 세 명의 젊은이들, 그들이 보여주는 더러운 돈 사냥이 시작된다.</td>\n",
       "      <td>스토리, 액션</td>\n",
       "      <td>18</td>\n",
       "      <td>|||그림채 보고 대가리 작가인줄 알았다|||대가리는 표절논란으로 연재중단 됐습니다...</td>\n",
       "    </tr>\n",
       "    <tr>\n",
       "      <th>322</th>\n",
       "      <td>토끼대왕</td>\n",
       "      <td>sat</td>\n",
       "      <td>7</td>\n",
       "      <td>살인마 교생, 왕따를 구원하다.</td>\n",
       "      <td>스토리, 스릴러</td>\n",
       "      <td>18</td>\n",
       "      <td>|||삽질로 자기괴롭혔던애 묻는거에 소름돋음|||학폭가해자들 사형제 도입 ㄱㄱ|||...</td>\n",
       "    </tr>\n",
       "    <tr>\n",
       "      <th>323</th>\n",
       "      <td>압락사스</td>\n",
       "      <td>sat</td>\n",
       "      <td>39</td>\n",
       "      <td>\"다 죽여버리면 되는 거잖아\"꼬일 대로 꼬인 악의 연대기</td>\n",
       "      <td>스토리, 스릴러</td>\n",
       "      <td>18</td>\n",
       "      <td>|||압락사스는 스스로 천사이면서 악마인 면을 가진 신으로 데미안에서 싱클레어와 데...</td>\n",
       "    </tr>\n",
       "    <tr>\n",
       "      <th>324</th>\n",
       "      <td>스퍼맨: 현자단의 역습</td>\n",
       "      <td>sun</td>\n",
       "      <td>44</td>\n",
       "      <td>스퍼맨이 돌아왔다! 근데 현자가 되어 돌아왔다!</td>\n",
       "      <td>에피소드, 드라마</td>\n",
       "      <td>18</td>\n",
       "      <td>|||헷갈리는 분들 계신데 시즌2는 수위가 너무 쌔서 정식 연재는 못하고 네이버시리...</td>\n",
       "    </tr>\n",
       "  </tbody>\n",
       "</table>\n",
       "</div>"
      ],
      "text/plain": [
       "            title weekday  last                                       content  \\\n",
       "320   헬퍼 2 : 킬베로스     wed   223  역시는 역시 역시군.킬베로스 트라이브의 대장 장광남이 펼치는 스트릿 액션 만화.   \n",
       "321          사냥개들     fri    52  빚 때문에 얽힌 세 명의 젊은이들, 그들이 보여주는 더러운 돈 사냥이 시작된다.   \n",
       "322          토끼대왕     sat     7                             살인마 교생, 왕따를 구원하다.   \n",
       "323          압락사스     sat    39               \"다 죽여버리면 되는 거잖아\"꼬일 대로 꼬인 악의 연대기   \n",
       "324  스퍼맨: 현자단의 역습     sun    44                    스퍼맨이 돌아왔다! 근데 현자가 되어 돌아왔다!   \n",
       "\n",
       "         genre  age                                           comments  \n",
       "320    스토리, 액션   18  |||오셨다 올리자|||오셧다 올려드려라 뭐하냐 얘들아 우리의 화력을보여주자 배댓 ...  \n",
       "321    스토리, 액션   18  |||그림채 보고 대가리 작가인줄 알았다|||대가리는 표절논란으로 연재중단 됐습니다...  \n",
       "322   스토리, 스릴러   18  |||삽질로 자기괴롭혔던애 묻는거에 소름돋음|||학폭가해자들 사형제 도입 ㄱㄱ|||...  \n",
       "323   스토리, 스릴러   18  |||압락사스는 스스로 천사이면서 악마인 면을 가진 신으로 데미안에서 싱클레어와 데...  \n",
       "324  에피소드, 드라마   18  |||헷갈리는 분들 계신데 시즌2는 수위가 너무 쌔서 정식 연재는 못하고 네이버시리...  "
      ]
     },
     "execution_count": 8,
     "metadata": {},
     "output_type": "execute_result"
    }
   ],
   "source": [
    "comments_df.tail()"
   ]
  },
  {
   "cell_type": "code",
   "execution_count": 10,
   "metadata": {},
   "outputs": [],
   "source": [
    "comments_df.to_csv('comments_df_yj.csv')"
   ]
  },
  {
   "cell_type": "code",
   "execution_count": null,
   "metadata": {},
   "outputs": [],
   "source": []
  },
  {
   "cell_type": "code",
   "execution_count": null,
   "metadata": {},
   "outputs": [],
   "source": []
  },
  {
   "cell_type": "code",
   "execution_count": null,
   "metadata": {},
   "outputs": [],
   "source": []
  },
  {
   "cell_type": "code",
   "execution_count": null,
   "metadata": {},
   "outputs": [],
   "source": []
  },
  {
   "cell_type": "code",
   "execution_count": null,
   "metadata": {},
   "outputs": [],
   "source": []
  },
  {
   "cell_type": "code",
   "execution_count": null,
   "metadata": {},
   "outputs": [],
   "source": []
  },
  {
   "cell_type": "code",
   "execution_count": null,
   "metadata": {},
   "outputs": [],
   "source": []
  },
  {
   "cell_type": "code",
   "execution_count": null,
   "metadata": {},
   "outputs": [],
   "source": []
  },
  {
   "cell_type": "code",
   "execution_count": null,
   "metadata": {},
   "outputs": [],
   "source": []
  }
 ],
 "metadata": {
  "kernelspec": {
   "display_name": "Python 3",
   "language": "python",
   "name": "python3"
  },
  "language_info": {
   "codemirror_mode": {
    "name": "ipython",
    "version": 3
   },
   "file_extension": ".py",
   "mimetype": "text/x-python",
   "name": "python",
   "nbconvert_exporter": "python",
   "pygments_lexer": "ipython3",
   "version": "3.7.6"
  }
 },
 "nbformat": 4,
 "nbformat_minor": 4
}
