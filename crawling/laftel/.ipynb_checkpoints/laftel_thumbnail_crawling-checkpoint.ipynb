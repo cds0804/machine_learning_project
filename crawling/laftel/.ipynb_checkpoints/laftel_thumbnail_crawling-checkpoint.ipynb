{
 "cells": [
  {
   "cell_type": "code",
   "execution_count": 1,
   "metadata": {},
   "outputs": [],
   "source": [
    "from __future__ import unicode_literals  # 이게 뭘까\n",
    "import requests\n",
    "import pymongo\n",
    "import pandas as pd\n",
    "from selenium import webdriver\n",
    "from selenium.webdriver.chrome.options import Options\n",
    "from scrapy.http import TextResponse\n",
    "import urllib.request\n",
    "import urllib\n",
    "import getpass\n",
    "import time\n",
    "import re\n",
    "from google.cloud import vision\n",
    "from google.cloud.vision import types\n",
    "import os\n",
    "import io\n",
    "from os import walk\n",
    "from bs4 import BeautifulSoup"
   ]
  },
  {
   "cell_type": "markdown",
   "metadata": {},
   "source": [
    "## 라프텔 썸네일 크롤링\n",
    "- 전체 애니메이션 썸네일 긁어오기"
   ]
  },
  {
   "cell_type": "code",
   "execution_count": 58,
   "metadata": {},
   "outputs": [],
   "source": [
    "def crawling_laftel_thumbnail():\n",
    "    laftel_thumbnail_data = [] \n",
    "    total_img_count = 0\n",
    "    error_img_count = 0\n",
    "\n",
    "    domain_url = 'https://laftel.net'\n",
    "    main_url = 'https://laftel.net/finder'\n",
    "\n",
    "    chrome_options = Options()\n",
    "    chrome_options.add_argument(\"--window-size=1600,1080\")\n",
    "\n",
    "    # if headless == True:\n",
    "    #     chrome_options.add_argument('headless')\n",
    "\n",
    "    driver = webdriver.Chrome(options=chrome_options)\n",
    "    driver.get(main_url)\n",
    "    \n",
    "    driver.find_element_by_xpath('//*[@id=\"root\"]/div/div[2]/div[2]/div[1]/div/div/div[1]/div/div[2]/section/div[1]').click()\n",
    "    \n",
    "    SCROLL_PAUSE_TIME = 0.5\n",
    "    time.sleep(SCROLL_PAUSE_TIME)\n",
    "\n",
    "    last_height = driver.execute_script(\"return document.body.scrollHeight\")\n",
    "\n",
    "    while True:\n",
    "        driver.execute_script(\"window.scrollTo(0, document.body.scrollHeight);\")\n",
    "        time.sleep(SCROLL_PAUSE_TIME)\n",
    "        new_height = driver.execute_script(\"return document.body.scrollHeight\")\n",
    "\n",
    "        if new_height == last_height:\n",
    "            break\n",
    "        last_height = new_height\n",
    "        \n",
    "    if not os.path.exists('./{}'.format('total_img')):\n",
    "        os.mkdir('./{}'.format('total_img'))\n",
    "        \n",
    "    thumbnail_ele_list = driver.find_elements_by_xpath('//*[@id=\"root\"]/div/div[2]/div[2]/div[2]/div[2]/div/div/img')\n",
    "    \n",
    "    for each_ele in thumbnail_ele_list:\n",
    "        error_img = False\n",
    "        img_url = each_ele.get_attribute('src')\n",
    "        title = each_ele.get_attribute('alt').split(' ')[0]\n",
    "        title = \"&\".join(title.split('/'))\n",
    "        \n",
    "        if img_url == 'https://image.laftel.net/':\n",
    "            error_img = True\n",
    "    \n",
    "        laftel_thumbnail_data.append({'title': title, 'img_url': img_url, \"error_img\": error_img})\n",
    "        \n",
    "        if img_url == 'https://image.laftel.net/':\n",
    "            error_img_count += 1\n",
    "            continue\n",
    "        \n",
    "        urllib.request.urlretrieve(img_url, './{}/{}.png'.format('total_img', title) + '_' + 'thumbnail')\n",
    "        total_img_count += 1\n",
    "        \n",
    "    laftel_thumbnail_df = pd.DataFrame(laftel_thumbnail_data, columns=['title', 'img_url'])\n",
    "    \n",
    "    return laftel_thumbnail_df\n",
    "        \n",
    "    "
   ]
  },
  {
   "cell_type": "code",
   "execution_count": null,
   "metadata": {},
   "outputs": [],
   "source": []
  },
  {
   "cell_type": "code",
   "execution_count": null,
   "metadata": {},
   "outputs": [],
   "source": []
  },
  {
   "cell_type": "code",
   "execution_count": null,
   "metadata": {},
   "outputs": [],
   "source": []
  },
  {
   "cell_type": "code",
   "execution_count": 40,
   "metadata": {},
   "outputs": [
    {
     "data": {
      "text/plain": [
       "'Fate&stay'"
      ]
     },
     "execution_count": 40,
     "metadata": {},
     "output_type": "execute_result"
    }
   ],
   "source": [
    "\"&\".join(title.split('/'))"
   ]
  },
  {
   "cell_type": "code",
   "execution_count": 41,
   "metadata": {},
   "outputs": [
    {
     "data": {
      "text/plain": [
       "'adffa'"
      ]
     },
     "execution_count": 41,
     "metadata": {},
     "output_type": "execute_result"
    }
   ],
   "source": [
    "\"&\".join('adffa'.split('/'))"
   ]
  },
  {
   "cell_type": "code",
   "execution_count": 43,
   "metadata": {},
   "outputs": [
    {
     "data": {
      "text/plain": [
       "<selenium.webdriver.remote.webelement.WebElement (session=\"91c153243575c7f149b7327561bcb9c7\", element=\"aeae23b2-d54a-4bfb-923c-bd0dc10bf9be\")>"
      ]
     },
     "execution_count": 43,
     "metadata": {},
     "output_type": "execute_result"
    }
   ],
   "source": [
    "each_ele"
   ]
  },
  {
   "cell_type": "code",
   "execution_count": 44,
   "metadata": {},
   "outputs": [
    {
     "data": {
      "text/plain": [
       "'https://image.laftel.net/'"
      ]
     },
     "execution_count": 44,
     "metadata": {},
     "output_type": "execute_result"
    }
   ],
   "source": [
    "each_ele.get_attribute('src')"
   ]
  },
  {
   "cell_type": "code",
   "execution_count": 46,
   "metadata": {},
   "outputs": [
    {
     "data": {
      "text/plain": [
       "5737"
      ]
     },
     "execution_count": 46,
     "metadata": {},
     "output_type": "execute_result"
    }
   ],
   "source": [
    "len(thumbnail_ele_list)"
   ]
  },
  {
   "cell_type": "code",
   "execution_count": 48,
   "metadata": {},
   "outputs": [],
   "source": [
    "thumbnail_url_list = [each_ele.get_attribute('src') for each_ele in thumbnail_ele_list]"
   ]
  },
  {
   "cell_type": "code",
   "execution_count": 51,
   "metadata": {},
   "outputs": [
    {
     "name": "stdout",
     "output_type": "stream",
     "text": [
      "https://image.laftel.net/\n",
      "https://image.laftel.net/\n",
      "https://image.laftel.net/\n",
      "https://image.laftel.net/\n",
      "https://image.laftel.net/\n",
      "https://image.laftel.net/\n",
      "https://image.laftel.net/\n",
      "https://image.laftel.net/\n",
      "https://image.laftel.net/\n",
      "https://image.laftel.net/\n"
     ]
    }
   ],
   "source": [
    "for each_thumbnail in thumbnail_url_list:\n",
    "    if each_thumbnail == 'https://image.laftel.net/':\n",
    "        print(each_thumbnail)"
   ]
  },
  {
   "cell_type": "code",
   "execution_count": 52,
   "metadata": {},
   "outputs": [],
   "source": [
    "laftel_thumbnail_df = pd.DataFrame(thumbnail_url_list, columns=['url'])"
   ]
  },
  {
   "cell_type": "code",
   "execution_count": 53,
   "metadata": {},
   "outputs": [
    {
     "data": {
      "text/html": [
       "<div>\n",
       "<style scoped>\n",
       "    .dataframe tbody tr th:only-of-type {\n",
       "        vertical-align: middle;\n",
       "    }\n",
       "\n",
       "    .dataframe tbody tr th {\n",
       "        vertical-align: top;\n",
       "    }\n",
       "\n",
       "    .dataframe thead th {\n",
       "        text-align: right;\n",
       "    }\n",
       "</style>\n",
       "<table border=\"1\" class=\"dataframe\">\n",
       "  <thead>\n",
       "    <tr style=\"text-align: right;\">\n",
       "      <th></th>\n",
       "      <th>url</th>\n",
       "    </tr>\n",
       "  </thead>\n",
       "  <tbody>\n",
       "    <tr>\n",
       "      <th>0</th>\n",
       "      <td>https://image.laftel.net/items/thumbs/big/f320...</td>\n",
       "    </tr>\n",
       "    <tr>\n",
       "      <th>1</th>\n",
       "      <td>https://image.laftel.net/items/thumbs/big/167c...</td>\n",
       "    </tr>\n",
       "    <tr>\n",
       "      <th>2</th>\n",
       "      <td>https://image.laftel.net/items/thumbs/big/9ec0...</td>\n",
       "    </tr>\n",
       "    <tr>\n",
       "      <th>3</th>\n",
       "      <td>https://image.laftel.net/items/thumbs/big/f3d8...</td>\n",
       "    </tr>\n",
       "    <tr>\n",
       "      <th>4</th>\n",
       "      <td>https://image.laftel.net/items/thumbs/big/4b63...</td>\n",
       "    </tr>\n",
       "    <tr>\n",
       "      <th>...</th>\n",
       "      <td>...</td>\n",
       "    </tr>\n",
       "    <tr>\n",
       "      <th>5732</th>\n",
       "      <td>https://image.laftel.net/items/thumbs/big/1148...</td>\n",
       "    </tr>\n",
       "    <tr>\n",
       "      <th>5733</th>\n",
       "      <td>https://image.laftel.net/items/thumbs/big/2573...</td>\n",
       "    </tr>\n",
       "    <tr>\n",
       "      <th>5734</th>\n",
       "      <td>https://image.laftel.net/items/thumbs/big/622a...</td>\n",
       "    </tr>\n",
       "    <tr>\n",
       "      <th>5735</th>\n",
       "      <td>https://image.laftel.net/items/thumbs/big/73ce...</td>\n",
       "    </tr>\n",
       "    <tr>\n",
       "      <th>5736</th>\n",
       "      <td>https://image.laftel.net/items/thumbs/big/a5ca...</td>\n",
       "    </tr>\n",
       "  </tbody>\n",
       "</table>\n",
       "<p>5737 rows × 1 columns</p>\n",
       "</div>"
      ],
      "text/plain": [
       "                                                    url\n",
       "0     https://image.laftel.net/items/thumbs/big/f320...\n",
       "1     https://image.laftel.net/items/thumbs/big/167c...\n",
       "2     https://image.laftel.net/items/thumbs/big/9ec0...\n",
       "3     https://image.laftel.net/items/thumbs/big/f3d8...\n",
       "4     https://image.laftel.net/items/thumbs/big/4b63...\n",
       "...                                                 ...\n",
       "5732  https://image.laftel.net/items/thumbs/big/1148...\n",
       "5733  https://image.laftel.net/items/thumbs/big/2573...\n",
       "5734  https://image.laftel.net/items/thumbs/big/622a...\n",
       "5735  https://image.laftel.net/items/thumbs/big/73ce...\n",
       "5736  https://image.laftel.net/items/thumbs/big/a5ca...\n",
       "\n",
       "[5737 rows x 1 columns]"
      ]
     },
     "execution_count": 53,
     "metadata": {},
     "output_type": "execute_result"
    }
   ],
   "source": [
    "laftel_thumbnail_df"
   ]
  },
  {
   "cell_type": "code",
   "execution_count": 55,
   "metadata": {},
   "outputs": [],
   "source": [
    "laftel_thumbnail_df.to_csv('laftel_thumbnail_url.csv')"
   ]
  },
  {
   "cell_type": "code",
   "execution_count": null,
   "metadata": {},
   "outputs": [],
   "source": []
  },
  {
   "cell_type": "code",
   "execution_count": null,
   "metadata": {},
   "outputs": [],
   "source": []
  },
  {
   "cell_type": "code",
   "execution_count": null,
   "metadata": {},
   "outputs": [],
   "source": []
  },
  {
   "cell_type": "code",
   "execution_count": null,
   "metadata": {},
   "outputs": [],
   "source": []
  }
 ],
 "metadata": {
  "kernelspec": {
   "display_name": "Python 3",
   "language": "python",
   "name": "python3"
  },
  "language_info": {
   "codemirror_mode": {
    "name": "ipython",
    "version": 3
   },
   "file_extension": ".py",
   "mimetype": "text/x-python",
   "name": "python",
   "nbconvert_exporter": "python",
   "pygments_lexer": "ipython3",
   "version": "3.7.6"
  }
 },
 "nbformat": 4,
 "nbformat_minor": 4
}
