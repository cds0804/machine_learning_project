{
 "cells": [
  {
   "cell_type": "code",
   "execution_count": 1,
   "metadata": {},
   "outputs": [],
   "source": [
    "from __future__ import unicode_literals  # 이게 뭘까\n",
    "import requests\n",
    "import pymongo\n",
    "import pandas as pd\n",
    "from selenium import webdriver\n",
    "from selenium.webdriver.chrome.options import Options\n",
    "from scrapy.http import TextResponse\n",
    "import urllib.request\n",
    "import urllib\n",
    "import getpass\n",
    "import time\n",
    "import re\n",
    "from google.cloud import vision\n",
    "from google.cloud.vision import types\n",
    "import os\n",
    "import io\n",
    "from os import walk\n",
    "from bs4 import BeautifulSoup"
   ]
  },
  {
   "cell_type": "markdown",
   "metadata": {},
   "source": [
    "## 라프텔 썸네일 크롤링\n",
    "- 전체 애니메이션 썸네일 긁어오기"
   ]
  },
  {
   "cell_type": "code",
   "execution_count": null,
   "metadata": {},
   "outputs": [],
   "source": [
    "def crawling_laftel_thumbnail():\n",
    "    df = pd.DataFrame(columns=['title', 'genre', 'content', 'age'])\n",
    "    webtoon_info = []\n",
    "    total_img_count = 0\n",
    "\n",
    "    domain_url = 'https://laftel.net'\n",
    "    main_url = 'https://laftel.net/finder'\n",
    "\n",
    "    chrome_options = Options()\n",
    "    chrome_options.add_argument(\"--window-size=1600,1080\")\n",
    "\n",
    "    # if headless == True:\n",
    "    #     chrome_options.add_argument('headless')\n",
    "\n",
    "    driver = webdriver.Chrome(options=chrome_options)\n",
    "    driver.get(main_url)\n",
    "    \n",
    "    driver.find_element_by_xpath('//*[@id=\"root\"]/div/div[2]/div[2]/div[1]/div/div/div[1]/div/div[2]/section/div[1]').click()\n",
    "    \n",
    "    SCROLL_PAUSE_TIME = 0.5\n",
    "    time.sleep(SCROLL_PAUSE_TIME)\n",
    "\n",
    "    last_height = driver.execute_script(\"return document.body.scrollHeight\")\n",
    "\n",
    "    while True:\n",
    "        driver.execute_script(\"window.scrollTo(0, document.body.scrollHeight);\")\n",
    "        time.sleep(SCROLL_PAUSE_TIME)\n",
    "        new_height = driver.execute_script(\"return document.body.scrollHeight\")\n",
    "\n",
    "        if new_height == last_height:\n",
    "            break\n",
    "        last_height = new_height\n",
    "        \n",
    "    if not os.path.exists('./imgs/{}'.format(title)):\n",
    "                os.mkdir('./imgs/{}'.format(title))\n",
    "        \n",
    "    thumbnail_imgs = driver.find_elements_by_xpath('//*[@id=\"root\"]/div/div[2]/div[2]/div[2]/div[2]/div/div/img')\n",
    "    \n",
    "    \n",
    "    "
   ]
  },
  {
   "cell_type": "code",
   "execution_count": null,
   "metadata": {},
   "outputs": [],
   "source": []
  },
  {
   "cell_type": "code",
   "execution_count": null,
   "metadata": {},
   "outputs": [],
   "source": []
  },
  {
   "cell_type": "code",
   "execution_count": 2,
   "metadata": {},
   "outputs": [],
   "source": [
    "df = pd.DataFrame(columns=['title', 'genre', 'content', 'age'])\n",
    "webtoon_info = []\n",
    "total_img_count = 0\n",
    "\n",
    "domain_url = 'https://laftel.net'\n",
    "main_url = 'https://laftel.net/finder'\n",
    "\n",
    "chrome_options = Options()\n",
    "chrome_options.add_argument(\"--window-size=1600,1080\")\n",
    "\n",
    "# if headless == True:\n",
    "#     chrome_options.add_argument('headless')\n",
    "\n",
    "driver = webdriver.Chrome(options=chrome_options)\n",
    "driver.get(main_url)"
   ]
  },
  {
   "cell_type": "code",
   "execution_count": 25,
   "metadata": {},
   "outputs": [],
   "source": [
    "driver.find_element_by_xpath('//*[@id=\"root\"]/div/div[2]/div[2]/div[1]/div/div/div[1]/div/div[2]/section/div[1]').click()"
   ]
  },
  {
   "cell_type": "code",
   "execution_count": 6,
   "metadata": {},
   "outputs": [],
   "source": [
    "SCROLL_PAUSE_TIME = 0.5\n",
    "\n",
    "last_height = driver.execute_script(\"return document.body.scrollHeight\")\n",
    "\n",
    "while True:\n",
    "    driver.execute_script(\"window.scrollTo(0, document.body.scrollHeight);\")\n",
    "\n",
    "    time.sleep(SCROLL_PAUSE_TIME)\n",
    "\n",
    "    new_height = driver.execute_script(\"return document.body.scrollHeight\")\n",
    "    \n",
    "    if new_height == last_height:\n",
    "        break\n",
    "    last_height = new_height"
   ]
  },
  {
   "cell_type": "code",
   "execution_count": 26,
   "metadata": {},
   "outputs": [
    {
     "data": {
      "text/plain": [
       "20"
      ]
     },
     "execution_count": 26,
     "metadata": {},
     "output_type": "execute_result"
    }
   ],
   "source": [
    "thumbnail_imgs = driver.find_elements_by_xpath('//*[@id=\"root\"]/div/div[2]/div[2]/div[2]/div[2]/div/div/img')\n",
    "len(thumbnail_img)"
   ]
  },
  {
   "cell_type": "code",
   "execution_count": 30,
   "metadata": {},
   "outputs": [
    {
     "data": {
      "text/plain": [
       "[<selenium.webdriver.remote.webelement.WebElement (session=\"ce9ec0d4b8c8854f9012456bc790d4d9\", element=\"d100d6fc-ce70-473a-a382-d9bbd09c1717\")>,\n",
       " <selenium.webdriver.remote.webelement.WebElement (session=\"ce9ec0d4b8c8854f9012456bc790d4d9\", element=\"d9fbe076-0439-415c-bb0a-1eddc0b28efa\")>,\n",
       " <selenium.webdriver.remote.webelement.WebElement (session=\"ce9ec0d4b8c8854f9012456bc790d4d9\", element=\"ef93dd3c-1f8e-4e4d-8921-a6c7e7031573\")>,\n",
       " <selenium.webdriver.remote.webelement.WebElement (session=\"ce9ec0d4b8c8854f9012456bc790d4d9\", element=\"cdb37be3-827f-49d5-9b63-6c39fd493604\")>,\n",
       " <selenium.webdriver.remote.webelement.WebElement (session=\"ce9ec0d4b8c8854f9012456bc790d4d9\", element=\"7e0cee98-c015-4c6e-ba5d-6af8f5c1e3c2\")>,\n",
       " <selenium.webdriver.remote.webelement.WebElement (session=\"ce9ec0d4b8c8854f9012456bc790d4d9\", element=\"35ac7483-b25e-48f8-9662-190f8b7427c4\")>,\n",
       " <selenium.webdriver.remote.webelement.WebElement (session=\"ce9ec0d4b8c8854f9012456bc790d4d9\", element=\"44fe7dea-fefb-4630-a467-0de5f8e0ef80\")>,\n",
       " <selenium.webdriver.remote.webelement.WebElement (session=\"ce9ec0d4b8c8854f9012456bc790d4d9\", element=\"38ea45f1-7eae-4186-bd18-4ed3d0f24c5d\")>,\n",
       " <selenium.webdriver.remote.webelement.WebElement (session=\"ce9ec0d4b8c8854f9012456bc790d4d9\", element=\"70489cdd-d9ef-4b27-93cd-70e80ea8a4ab\")>,\n",
       " <selenium.webdriver.remote.webelement.WebElement (session=\"ce9ec0d4b8c8854f9012456bc790d4d9\", element=\"be67c705-86bb-4857-9fdc-d3e3550ae884\")>,\n",
       " <selenium.webdriver.remote.webelement.WebElement (session=\"ce9ec0d4b8c8854f9012456bc790d4d9\", element=\"f5688d8b-788b-452a-a4d9-08ea8baf8708\")>,\n",
       " <selenium.webdriver.remote.webelement.WebElement (session=\"ce9ec0d4b8c8854f9012456bc790d4d9\", element=\"c624b41e-1090-46f9-a986-047592efa654\")>,\n",
       " <selenium.webdriver.remote.webelement.WebElement (session=\"ce9ec0d4b8c8854f9012456bc790d4d9\", element=\"ddf20766-d28e-42a7-adb0-a54e9de49f22\")>,\n",
       " <selenium.webdriver.remote.webelement.WebElement (session=\"ce9ec0d4b8c8854f9012456bc790d4d9\", element=\"96c56758-e20c-4165-83e7-3f65ac6bf4a2\")>,\n",
       " <selenium.webdriver.remote.webelement.WebElement (session=\"ce9ec0d4b8c8854f9012456bc790d4d9\", element=\"c198a48a-b863-4305-8823-08451f113f60\")>,\n",
       " <selenium.webdriver.remote.webelement.WebElement (session=\"ce9ec0d4b8c8854f9012456bc790d4d9\", element=\"46f204e7-d0d9-4e68-9ddf-1611b855bff0\")>,\n",
       " <selenium.webdriver.remote.webelement.WebElement (session=\"ce9ec0d4b8c8854f9012456bc790d4d9\", element=\"87c1ab0a-6c54-4282-97af-f305936324c4\")>,\n",
       " <selenium.webdriver.remote.webelement.WebElement (session=\"ce9ec0d4b8c8854f9012456bc790d4d9\", element=\"8ea5f89e-e1d9-445a-b0b8-1e0b36fa33ac\")>,\n",
       " <selenium.webdriver.remote.webelement.WebElement (session=\"ce9ec0d4b8c8854f9012456bc790d4d9\", element=\"3fb7aff6-3eea-4f3f-ad08-99ecf9995757\")>,\n",
       " <selenium.webdriver.remote.webelement.WebElement (session=\"ce9ec0d4b8c8854f9012456bc790d4d9\", element=\"5e51843f-2daa-4d01-964f-ea4d0e631597\")>]"
      ]
     },
     "execution_count": 30,
     "metadata": {},
     "output_type": "execute_result"
    }
   ],
   "source": [
    "thumbnail_img"
   ]
  },
  {
   "cell_type": "code",
   "execution_count": null,
   "metadata": {},
   "outputs": [],
   "source": []
  },
  {
   "cell_type": "code",
   "execution_count": null,
   "metadata": {},
   "outputs": [],
   "source": []
  },
  {
   "cell_type": "code",
   "execution_count": null,
   "metadata": {},
   "outputs": [],
   "source": []
  },
  {
   "cell_type": "code",
   "execution_count": null,
   "metadata": {},
   "outputs": [],
   "source": []
  },
  {
   "cell_type": "code",
   "execution_count": null,
   "metadata": {},
   "outputs": [],
   "source": []
  },
  {
   "cell_type": "code",
   "execution_count": null,
   "metadata": {},
   "outputs": [],
   "source": []
  },
  {
   "cell_type": "code",
   "execution_count": null,
   "metadata": {},
   "outputs": [],
   "source": []
  }
 ],
 "metadata": {
  "kernelspec": {
   "display_name": "Python 3",
   "language": "python",
   "name": "python3"
  },
  "language_info": {
   "codemirror_mode": {
    "name": "ipython",
    "version": 3
   },
   "file_extension": ".py",
   "mimetype": "text/x-python",
   "name": "python",
   "nbconvert_exporter": "python",
   "pygments_lexer": "ipython3",
   "version": "3.7.6"
  }
 },
 "nbformat": 4,
 "nbformat_minor": 4
}
