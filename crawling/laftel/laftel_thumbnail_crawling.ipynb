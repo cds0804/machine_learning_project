{
 "cells": [
  {
   "cell_type": "code",
   "execution_count": 1,
   "metadata": {},
   "outputs": [],
   "source": [
    "from __future__ import unicode_literals  # 이게 뭘까\n",
    "import requests\n",
    "import pymongo\n",
    "import pandas as pd\n",
    "from selenium import webdriver\n",
    "from selenium.webdriver.chrome.options import Options\n",
    "from scrapy.http import TextResponse\n",
    "import urllib.request\n",
    "import urllib\n",
    "import getpass\n",
    "import time\n",
    "import re\n",
    "from google.cloud import vision\n",
    "from google.cloud.vision import types\n",
    "import os\n",
    "import io\n",
    "from os import walk\n",
    "from bs4 import BeautifulSoup"
   ]
  },
  {
   "cell_type": "markdown",
   "metadata": {},
   "source": [
    "## 라프텔 썸네일 크롤링\n",
    "- 전체 애니메이션 썸네일 긁어오기"
   ]
  },
  {
   "cell_type": "code",
   "execution_count": null,
   "metadata": {},
   "outputs": [],
   "source": [
    "def crawling_laftel_thumbnail():\n",
    "    total_img_count = 0\n",
    "\n",
    "    domain_url = 'https://laftel.net'\n",
    "    main_url = 'https://laftel.net/finder'\n",
    "\n",
    "    chrome_options = Options()\n",
    "    chrome_options.add_argument(\"--window-size=1600,1080\")\n",
    "\n",
    "    # if headless == True:\n",
    "    #     chrome_options.add_argument('headless')\n",
    "\n",
    "    driver = webdriver.Chrome(options=chrome_options)\n",
    "    driver.get(main_url)\n",
    "    \n",
    "    driver.find_element_by_xpath('//*[@id=\"root\"]/div/div[2]/div[2]/div[1]/div/div/div[1]/div/div[2]/section/div[1]').click()\n",
    "    \n",
    "    SCROLL_PAUSE_TIME = 0.5\n",
    "    time.sleep(SCROLL_PAUSE_TIME)\n",
    "\n",
    "    last_height = driver.execute_script(\"return document.body.scrollHeight\")\n",
    "\n",
    "    while True:\n",
    "        driver.execute_script(\"window.scrollTo(0, document.body.scrollHeight);\")\n",
    "        time.sleep(SCROLL_PAUSE_TIME)\n",
    "        new_height = driver.execute_script(\"return document.body.scrollHeight\")\n",
    "\n",
    "        if new_height == last_height:\n",
    "            break\n",
    "        last_height = new_height\n",
    "        \n",
    "    if not os.path.exists('./{}'.format('total_img')):\n",
    "        os.mkdir('./{}'.format('total_img'))\n",
    "        \n",
    "    thumbnail_ele_list = driver.find_elements_by_xpath('//*[@id=\"root\"]/div/div[2]/div[2]/div[2]/div[2]/div/div/img')\n",
    "    \n",
    "    for each_ele in thumbnail_ele_list:\n",
    "        img_url = each_ele.get_attribute('src')\n",
    "        title = each_ele.get_attribute('alt').split(' ')[0]\n",
    "        urllib.request.urlretrieve(img_url, './{}/{}.png'.format('total_img', title + '_' + 'thumbnail'))\n",
    "        total_img_count += 1\n",
    "        \n",
    "    "
   ]
  },
  {
   "cell_type": "code",
   "execution_count": null,
   "metadata": {},
   "outputs": [],
   "source": []
  },
  {
   "cell_type": "code",
   "execution_count": null,
   "metadata": {},
   "outputs": [],
   "source": []
  },
  {
   "cell_type": "code",
   "execution_count": 2,
   "metadata": {},
   "outputs": [],
   "source": [
    "df = pd.DataFrame(columns=['title', 'genre', 'content', 'age'])\n",
    "webtoon_info = []\n",
    "total_img_count = 0\n",
    "\n",
    "domain_url = 'https://laftel.net'\n",
    "main_url = 'https://laftel.net/finder'\n",
    "\n",
    "chrome_options = Options()\n",
    "chrome_options.add_argument(\"--window-size=1600,1080\")\n",
    "\n",
    "# if headless == True:\n",
    "#     chrome_options.add_argument('headless')\n",
    "\n",
    "driver = webdriver.Chrome(options=chrome_options)\n",
    "driver.get(main_url)"
   ]
  },
  {
   "cell_type": "code",
   "execution_count": 25,
   "metadata": {},
   "outputs": [],
   "source": [
    "driver.find_element_by_xpath('//*[@id=\"root\"]/div/div[2]/div[2]/div[1]/div/div/div[1]/div/div[2]/section/div[1]').click()"
   ]
  },
  {
   "cell_type": "code",
   "execution_count": 6,
   "metadata": {},
   "outputs": [],
   "source": [
    "SCROLL_PAUSE_TIME = 0.5\n",
    "\n",
    "last_height = driver.execute_script(\"return document.body.scrollHeight\")\n",
    "\n",
    "while True:\n",
    "    driver.execute_script(\"window.scrollTo(0, document.body.scrollHeight);\")\n",
    "\n",
    "    time.sleep(SCROLL_PAUSE_TIME)\n",
    "\n",
    "    new_height = driver.execute_script(\"return document.body.scrollHeight\")\n",
    "    \n",
    "    if new_height == last_height:\n",
    "        break\n",
    "    last_height = new_height"
   ]
  },
  {
   "cell_type": "code",
   "execution_count": 26,
   "metadata": {},
   "outputs": [
    {
     "data": {
      "text/plain": [
       "20"
      ]
     },
     "execution_count": 26,
     "metadata": {},
     "output_type": "execute_result"
    }
   ],
   "source": [
    "thumbnail_imgs = driver.find_elements_by_xpath('//*[@id=\"root\"]/div/div[2]/div[2]/div[2]/div[2]/div/div/img')\n",
    "len(thumbnail_img)"
   ]
  },
  {
   "cell_type": "code",
   "execution_count": 32,
   "metadata": {},
   "outputs": [
    {
     "data": {
      "text/plain": [
       "('https://image.laftel.net/items/thumbs/big/f3203d2d-13e7-43fc-afb0-a43a9a5fe56b.jpg',\n",
       " '원펀맨 썸네일')"
      ]
     },
     "execution_count": 32,
     "metadata": {},
     "output_type": "execute_result"
    }
   ],
   "source": [
    "thumbnail_img[0].get_attribute('src'), thumbnail_img[0].get_attribute('alt')"
   ]
  },
  {
   "cell_type": "code",
   "execution_count": null,
   "metadata": {},
   "outputs": [],
   "source": []
  },
  {
   "cell_type": "code",
   "execution_count": null,
   "metadata": {},
   "outputs": [],
   "source": []
  },
  {
   "cell_type": "code",
   "execution_count": null,
   "metadata": {},
   "outputs": [],
   "source": []
  },
  {
   "cell_type": "code",
   "execution_count": null,
   "metadata": {},
   "outputs": [],
   "source": []
  },
  {
   "cell_type": "code",
   "execution_count": null,
   "metadata": {},
   "outputs": [],
   "source": []
  },
  {
   "cell_type": "code",
   "execution_count": null,
   "metadata": {},
   "outputs": [],
   "source": []
  },
  {
   "cell_type": "code",
   "execution_count": null,
   "metadata": {},
   "outputs": [],
   "source": []
  }
 ],
 "metadata": {
  "kernelspec": {
   "display_name": "Python 3",
   "language": "python",
   "name": "python3"
  },
  "language_info": {
   "codemirror_mode": {
    "name": "ipython",
    "version": 3
   },
   "file_extension": ".py",
   "mimetype": "text/x-python",
   "name": "python",
   "nbconvert_exporter": "python",
   "pygments_lexer": "ipython3",
   "version": "3.7.6"
  }
 },
 "nbformat": 4,
 "nbformat_minor": 4
}
