{
 "cells": [
  {
   "cell_type": "code",
   "execution_count": 18,
   "metadata": {},
   "outputs": [],
   "source": [
    "from __future__ import unicode_literals # 이게 뭘까\n",
    "import requests\n",
    "import pymongo\n",
    "import pandas as pd\n",
    "from selenium import webdriver\n",
    "from selenium.webdriver.chrome.options import Options\n",
    "from scrapy.http import TextResponse\n",
    "import urllib.request\n",
    "import urllib\n",
    "import getpass\n",
    "import time\n",
    "import re\n",
    "from google.cloud import vision\n",
    "from google.cloud.vision import types\n",
    "import os\n",
    "import io\n",
    "from os import walk\n",
    "from bs4 import BeautifulSoup\n"
   ]
  },
  {
   "cell_type": "markdown",
   "metadata": {},
   "source": [
    "# 네이버 웹툰 썸네일 크롤링"
   ]
  },
  {
   "cell_type": "code",
   "execution_count": 243,
   "metadata": {},
   "outputs": [],
   "source": [
    "def crawling_naver_webtoon_code():\n",
    "    \n",
    "    df = pd.DataFrame(columns=['title', 'genre', 'content', 'age'])\n",
    "    webtoon_info = []\n",
    "    \n",
    "    domain_url = 'https://comic.naver.com'\n",
    "    main_url = 'https://comic.naver.com/webtoon/weekday.nhn'\n",
    "    \n",
    "    html = requests.get(main_url).text\n",
    "    soup = BeautifulSoup(html, 'html.parser')\n",
    "    webtoon_area = soup.select('#content > div.list_area.daily_all > div.col > div > ul > li > div.thumb > a')\n",
    "    \n",
    "    for each_webtoon in webtoon_area:\n",
    "        webtoon_last_page = domain_url + each_webtoon['href'] + '&page={}'.format(99999)\n",
    "        html = requests.get(webtoon_last_page).text\n",
    "        soup = BeautifulSoup(html, 'html.parser')\n",
    "        last_page_num = int(soup.select('#content > div.paginate > div > strong.page')[0].find('em').text)\n",
    "        \n",
    "        title = ', '.join([each_ele.strip() for each_ele in soup.select('.comicinfo h2')[0].text.split('\\n') if each_ele != ''])\n",
    "        genre = soup.select('#content > div.comicinfo > div.detail > p.detail_info > span.genre')[0].text\n",
    "        content = soup.select('#content > div.comicinfo > div.detail > p:nth-child(2)')[0].text\n",
    "        age = soup.select('#content > div.comicinfo > div.detail > p.detail_info > span.age')[0].text\n",
    "        \n",
    "        webtoon_info.append({'title': title, 'genre': genre, 'content': content, 'age': age})\n",
    "                \n",
    "        for page_num in range(1, last_page_num + 1):\n",
    "            webtoon_url = domain_url + each_webtoon['href'] + '&page={}'.format(page_num)\n",
    "            html = requests.get(webtoon_url).text\n",
    "            soup = BeautifulSoup(html, 'html.parser')\n",
    "\n",
    "            if not os.path.exists('./{}'.format(title)):\n",
    "                os.mkdir('./{}'.format(title))\n",
    "                \n",
    "            thumbnail_area = soup.find('table', 'viewList')\n",
    "            thumbnail_img_list = thumbnail_area.select('td > a > img')[1:]\n",
    "            \n",
    "            for each_img_tag in thumbnail_img_list:\n",
    "                urllib.request.urlretrieve(each_img_tag['src'], './{}/{}.png'.format(title, each_img_tag['alt']))\n",
    "                \n",
    "    df = pd.DataFrame(webtoon_info, columns=['title', 'genre', 'content', 'age'])\n",
    "    df.to_csv('webtoon_info.csv')\n",
    "    "
   ]
  },
  {
   "cell_type": "code",
   "execution_count": null,
   "metadata": {},
   "outputs": [],
   "source": []
  },
  {
   "cell_type": "code",
   "execution_count": null,
   "metadata": {},
   "outputs": [],
   "source": []
  },
  {
   "cell_type": "code",
   "execution_count": null,
   "metadata": {},
   "outputs": [],
   "source": []
  },
  {
   "cell_type": "code",
   "execution_count": null,
   "metadata": {},
   "outputs": [],
   "source": []
  },
  {
   "cell_type": "code",
   "execution_count": null,
   "metadata": {},
   "outputs": [],
   "source": []
  },
  {
   "cell_type": "code",
   "execution_count": null,
   "metadata": {},
   "outputs": [],
   "source": []
  },
  {
   "cell_type": "code",
   "execution_count": null,
   "metadata": {},
   "outputs": [],
   "source": []
  },
  {
   "cell_type": "code",
   "execution_count": null,
   "metadata": {},
   "outputs": [],
   "source": []
  },
  {
   "cell_type": "code",
   "execution_count": null,
   "metadata": {},
   "outputs": [],
   "source": []
  },
  {
   "cell_type": "code",
   "execution_count": 249,
   "metadata": {},
   "outputs": [
    {
     "data": {
      "text/plain": [
       "'신의 탑, SIU'"
      ]
     },
     "execution_count": 249,
     "metadata": {},
     "output_type": "execute_result"
    }
   ],
   "source": [
    "title"
   ]
  },
  {
   "cell_type": "code",
   "execution_count": 256,
   "metadata": {},
   "outputs": [],
   "source": [
    "genre = soup.select('#content > div.comicinfo > div.detail > p.detail_info > span.genre')[0].text"
   ]
  },
  {
   "cell_type": "code",
   "execution_count": 272,
   "metadata": {},
   "outputs": [
    {
     "data": {
      "text/plain": [
       "'자신의 모든 것이었던 소녀를 쫓아 탑에 들어온 소년그리고 그런 소년을 시험하는 탑'"
      ]
     },
     "execution_count": 272,
     "metadata": {},
     "output_type": "execute_result"
    }
   ],
   "source": [
    "content = soup.select('#content > div.comicinfo > div.detail > p:nth-child(2)')[0].text"
   ]
  },
  {
   "cell_type": "code",
   "execution_count": 261,
   "metadata": {},
   "outputs": [],
   "source": [
    "data = [{'title': title, 'genre': genre}, {'title': 'adf', 'genre': genre}]"
   ]
  },
  {
   "cell_type": "code",
   "execution_count": 262,
   "metadata": {},
   "outputs": [],
   "source": [
    "df = pd.DataFrame(data, columns=['title', 'genre'])"
   ]
  },
  {
   "cell_type": "code",
   "execution_count": 263,
   "metadata": {},
   "outputs": [
    {
     "data": {
      "text/html": [
       "<div>\n",
       "<style scoped>\n",
       "    .dataframe tbody tr th:only-of-type {\n",
       "        vertical-align: middle;\n",
       "    }\n",
       "\n",
       "    .dataframe tbody tr th {\n",
       "        vertical-align: top;\n",
       "    }\n",
       "\n",
       "    .dataframe thead th {\n",
       "        text-align: right;\n",
       "    }\n",
       "</style>\n",
       "<table border=\"1\" class=\"dataframe\">\n",
       "  <thead>\n",
       "    <tr style=\"text-align: right;\">\n",
       "      <th></th>\n",
       "      <th>title</th>\n",
       "      <th>genre</th>\n",
       "    </tr>\n",
       "  </thead>\n",
       "  <tbody>\n",
       "    <tr>\n",
       "      <th>0</th>\n",
       "      <td>신의 탑, SIU</td>\n",
       "      <td>스토리, 판타지</td>\n",
       "    </tr>\n",
       "    <tr>\n",
       "      <th>1</th>\n",
       "      <td>adf</td>\n",
       "      <td>스토리, 판타지</td>\n",
       "    </tr>\n",
       "  </tbody>\n",
       "</table>\n",
       "</div>"
      ],
      "text/plain": [
       "       title     genre\n",
       "0  신의 탑, SIU  스토리, 판타지\n",
       "1        adf  스토리, 판타지"
      ]
     },
     "execution_count": 263,
     "metadata": {},
     "output_type": "execute_result"
    }
   ],
   "source": [
    "df"
   ]
  },
  {
   "cell_type": "code",
   "execution_count": 273,
   "metadata": {},
   "outputs": [
    {
     "data": {
      "text/plain": [
       "'12세 이용가'"
      ]
     },
     "execution_count": 273,
     "metadata": {},
     "output_type": "execute_result"
    }
   ],
   "source": [
    "soup.select('#content > div.comicinfo > div.detail > p.detail_info > span.age')[0].text"
   ]
  },
  {
   "cell_type": "code",
   "execution_count": null,
   "metadata": {},
   "outputs": [],
   "source": []
  },
  {
   "cell_type": "code",
   "execution_count": null,
   "metadata": {},
   "outputs": [],
   "source": []
  },
  {
   "cell_type": "code",
   "execution_count": null,
   "metadata": {},
   "outputs": [],
   "source": []
  },
  {
   "cell_type": "code",
   "execution_count": null,
   "metadata": {},
   "outputs": [],
   "source": []
  },
  {
   "cell_type": "code",
   "execution_count": null,
   "metadata": {},
   "outputs": [],
   "source": []
  },
  {
   "cell_type": "code",
   "execution_count": 202,
   "metadata": {},
   "outputs": [],
   "source": [
    "domain_url = 'https://comic.naver.com'\n",
    "main_url = 'https://comic.naver.com/webtoon/weekday.nhn'"
   ]
  },
  {
   "cell_type": "code",
   "execution_count": 203,
   "metadata": {},
   "outputs": [],
   "source": [
    "html = requests.get(main_url).text\n",
    "soup = BeautifulSoup(html, 'html.parser')"
   ]
  },
  {
   "cell_type": "code",
   "execution_count": 204,
   "metadata": {},
   "outputs": [
    {
     "data": {
      "text/plain": [
       "331"
      ]
     },
     "execution_count": 204,
     "metadata": {},
     "output_type": "execute_result"
    }
   ],
   "source": [
    "webtoon_area = soup.select('#content > div.list_area.daily_all > div.col > div > ul > li > div.thumb > a')\n",
    "len(webtoon_area)"
   ]
  },
  {
   "cell_type": "code",
   "execution_count": 235,
   "metadata": {},
   "outputs": [],
   "source": [
    "each_webtoon = webtoon_area[0]"
   ]
  },
  {
   "cell_type": "code",
   "execution_count": 237,
   "metadata": {},
   "outputs": [
    {
     "data": {
      "text/plain": [
       "<a href=\"/webtoon/list.nhn?titleId=183559&amp;weekday=mon\" onclick=\"nclk_v2(event,'thm*m.img','','1')\">\n",
       "<img alt=\"신의 탑\" height=\"90\" onerror=\"this.src='https://ssl.pstatic.net/static/comic/images/migration/common/blank.gif'\" src=\"https://shared-comic.pstatic.net/thumb/webtoon/183559/thumbnail/thumbnail_IMAG10_5e13c29c-f451-4430-a84a-a46495fb8cc3.jpg\" title=\"신의 탑\" width=\"83\"/><span class=\"mask\"></span>\n",
       "<em class=\"ico_updt\"></em>\n",
       "</a>"
      ]
     },
     "execution_count": 237,
     "metadata": {},
     "output_type": "execute_result"
    }
   ],
   "source": [
    "each_webtoon"
   ]
  },
  {
   "cell_type": "code",
   "execution_count": 238,
   "metadata": {},
   "outputs": [],
   "source": [
    "webtoon_last_page = domain_url + each_webtoon['href'] + '&page={}'.format(99999)\n",
    "html = requests.get(webtoon_last_page).text\n",
    "soup = BeautifulSoup(html, 'html.parser')\n",
    "last_page_num = int(soup.select('#content > div.paginate > div > strong.page')[0].find('em').text)\n",
    "\n",
    "for page_num in range(1, last_page_num + 1):\n",
    "    webtoon_url = domain_url + each_webtoon['href'] + '&page={}'.format(page_num)\n",
    "    html = requests.get(webtoon_url).text\n",
    "    soup = BeautifulSoup(html, 'html.parser')\n",
    "\n",
    "    title = ', '.join([each_ele.strip() for each_ele in soup.select('.comicinfo h2')[0].text.split('\\n') if each_ele != ''])\n",
    "    if not os.path.exists('./{}'.format(title)):\n",
    "        os.mkdir('./{}'.format(title))\n",
    "        \n",
    "    thumbnail_area = soup.find('table', 'viewList')\n",
    "    thumbnail_img_list = thumbnail_area.select('td > a > img')[1:]\n",
    "    for each_img_tag in thumbnail_img_list:\n",
    "        urllib.request.urlretrieve(each_img_tag['src'], './{}/{}.png'.format(title, each_img_tag['alt']))\n",
    "        \n",
    "        \n",
    "        "
   ]
  },
  {
   "cell_type": "code",
   "execution_count": null,
   "metadata": {},
   "outputs": [],
   "source": []
  },
  {
   "cell_type": "code",
   "execution_count": null,
   "metadata": {},
   "outputs": [],
   "source": []
  },
  {
   "cell_type": "code",
   "execution_count": null,
   "metadata": {},
   "outputs": [],
   "source": []
  },
  {
   "cell_type": "code",
   "execution_count": null,
   "metadata": {},
   "outputs": [],
   "source": []
  },
  {
   "cell_type": "code",
   "execution_count": null,
   "metadata": {},
   "outputs": [],
   "source": []
  },
  {
   "cell_type": "code",
   "execution_count": null,
   "metadata": {},
   "outputs": [],
   "source": []
  }
 ],
 "metadata": {
  "kernelspec": {
   "display_name": "Python 3",
   "language": "python",
   "name": "python3"
  },
  "language_info": {
   "codemirror_mode": {
    "name": "ipython",
    "version": 3
   },
   "file_extension": ".py",
   "mimetype": "text/x-python",
   "name": "python",
   "nbconvert_exporter": "python",
   "pygments_lexer": "ipython3",
   "version": "3.7.6"
  }
 },
 "nbformat": 4,
 "nbformat_minor": 4
}
