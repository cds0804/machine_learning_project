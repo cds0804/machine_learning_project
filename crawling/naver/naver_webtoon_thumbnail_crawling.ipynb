{
 "cells": [
  {
   "cell_type": "code",
   "execution_count": 1,
   "metadata": {},
   "outputs": [],
   "source": [
    "from __future__ import unicode_literals # 이게 뭘까\n",
    "import requests\n",
    "import pymongo\n",
    "import pandas as pd\n",
    "from selenium import webdriver\n",
    "from selenium.webdriver.chrome.options import Options\n",
    "from scrapy.http import TextResponse\n",
    "import urllib.request\n",
    "import urllib\n",
    "import getpass\n",
    "import time\n",
    "import re\n",
    "from google.cloud import vision\n",
    "from google.cloud.vision import types\n",
    "import os\n",
    "import io\n",
    "from os import walk\n",
    "from bs4 import BeautifulSoup\n"
   ]
  },
  {
   "cell_type": "markdown",
   "metadata": {},
   "source": [
    "# 네이버 웹툰 썸네일크롤링\n",
    " - 장르, 연령, 간략줄거리 -> 데이터프레임"
   ]
  },
  {
   "cell_type": "code",
   "execution_count": 2,
   "metadata": {},
   "outputs": [],
   "source": [
    "def crawling_naver_webtoon_thumbnail():\n",
    "    webtoon_info = []\n",
    "    total_df_info = []\n",
    "    total_img_count = 0\n",
    "\n",
    "    domain_url = 'https://comic.naver.com'\n",
    "    main_url = 'https://comic.naver.com/webtoon/weekday.nhn'\n",
    "\n",
    "    html = requests.get(main_url).text\n",
    "    soup = BeautifulSoup(html, 'html.parser')\n",
    "    webtoon_area = soup.select('#content > div.list_area.daily_all > div.col > div > ul > li > div.thumb > a')\n",
    "\n",
    "    for each_webtoon in webtoon_area:\n",
    "        webtoon_last_page = domain_url + each_webtoon['href'] + '&page={}'.format(99999)\n",
    "        html = requests.get(webtoon_last_page).text\n",
    "        soup = BeautifulSoup(html, 'html.parser')\n",
    "        last_page_num = int(soup.select('#content > div.paginate > div > strong.page')[0].find('em').text)\n",
    "\n",
    "        title = ', '.join([each_ele.strip() for each_ele in soup.select('.comicinfo h2')[0].text.split('\\n') if each_ele != ''])\n",
    "        title = ', '.join(['&'.join([each_text.strip() for each_text in each_text.split('/')]) for each_text in title.split(',')])\n",
    "        genre = soup.select('#content > div.comicinfo > div.detail > p.detail_info > span.genre')[0].text\n",
    "        content = soup.select('#content > div.comicinfo > div.detail > p:nth-child(2)')[0].text\n",
    "        age = soup.select('#content > div.comicinfo > div.detail > p.detail_info > span.age')[0].text\n",
    "\n",
    "        webtoon_info.append({'title': title, 'genre': genre, 'content': content, 'age': age})\n",
    "\n",
    "        for page_num in range(1, last_page_num + 1):\n",
    "            webtoon_url = domain_url + each_webtoon['href'] + '&page={}'.format(page_num)\n",
    "            html = requests.get(webtoon_url).text\n",
    "            soup = BeautifulSoup(html, 'html.parser')\n",
    "\n",
    "            if not os.path.exists('./imgs/{}'.format(title)):\n",
    "                os.mkdir('./imgs/{}'.format(title))\n",
    "\n",
    "            thumbnail_area = soup.find('table', 'viewList')\n",
    "            thumbnail_img_list = thumbnail_area.select('td > a > img')[1:]\n",
    "\n",
    "            for each_img_tag in thumbnail_img_list:\n",
    "                urllib.request.urlretrieve(each_img_tag['src'], './imgs/{}/{}.png'.format(title, title + '_' + '&'.join(each_img_tag['alt'].split('/'))))\n",
    "                urllib.request.urlretrieve(each_img_tag['src'], './total_img/{}.png'.format(title + '_' + '&'.join(each_img_tag['alt'].split('/'))))\n",
    "                total_df_info.append({'title': title + '_' + '&'.join(each_img_tag['alt'].split('/')), 'genre': genre, 'content': content, 'age': age})\n",
    "                total_img_count += 1\n",
    "\n",
    "    df = pd.DataFrame(webtoon_info, columns=['title', 'genre', 'content', 'age'])\n",
    "    total_df = pd.DataFrame(total_df_info, columns=['title', 'genre', 'content', 'age'])\n",
    "    df.to_csv('webtoon_info.csv')\n",
    "    total_df.to_csv('total_img_info.csv')"
   ]
  },
  {
   "cell_type": "code",
   "execution_count": null,
   "metadata": {},
   "outputs": [],
   "source": []
  },
  {
   "cell_type": "code",
   "execution_count": 48,
   "metadata": {},
   "outputs": [],
   "source": [
    "webtoon_info = []\n",
    "total_df_info = []\n",
    "total_img_count = 0\n",
    "\n",
    "domain_url = 'https://comic.naver.com'\n",
    "main_url = 'https://comic.naver.com/webtoon/weekday.nhn'\n",
    "\n",
    "html = requests.get(main_url).text\n",
    "soup = BeautifulSoup(html, 'html.parser')\n",
    "webtoon_area = soup.select('#content > div.list_area.daily_all > div.col > div > ul > li > div.thumb > a')\n",
    "\n",
    "for each_webtoon in webtoon_area:\n",
    "    webtoon_last_page = domain_url + each_webtoon['href'] + '&page={}'.format(99999)\n",
    "    html = requests.get(webtoon_last_page).text\n",
    "    soup = BeautifulSoup(html, 'html.parser')\n",
    "    last_page_num = int(soup.select('#content > div.paginate > div > strong.page')[0].find('em').text)\n",
    "\n",
    "    title = ', '.join([each_ele.strip() for each_ele in soup.select('.comicinfo h2')[0].text.split('\\n') if each_ele != ''])\n",
    "    title = ', '.join(['&'.join([each_text.strip() for each_text in each_text.split('/')]) for each_text in title.split(',')])\n",
    "    genre = soup.select('#content > div.comicinfo > div.detail > p.detail_info > span.genre')[0].text\n",
    "    content = soup.select('#content > div.comicinfo > div.detail > p:nth-child(2)')[0].text\n",
    "    age = soup.select('#content > div.comicinfo > div.detail > p.detail_info > span.age')[0].text\n",
    "\n",
    "    webtoon_info.append({'title': title, 'genre': genre, 'content': content, 'age': age})\n",
    "\n",
    "    for page_num in range(1, last_page_num + 1):\n",
    "        webtoon_url = domain_url + each_webtoon['href'] + '&page={}'.format(page_num)\n",
    "        html = requests.get(webtoon_url).text\n",
    "        soup = BeautifulSoup(html, 'html.parser')\n",
    "\n",
    "        if not os.path.exists('./imgs/{}'.format(title)):\n",
    "            os.mkdir('./imgs/{}'.format(title))\n",
    "\n",
    "        thumbnail_area = soup.find('table', 'viewList')\n",
    "        thumbnail_img_list = thumbnail_area.select('td > a > img')[1:]\n",
    "\n",
    "        for each_img_tag in thumbnail_img_list:\n",
    "            urllib.request.urlretrieve(each_img_tag['src'], './imgs/{}/{}.png'.format(title, title + '_' + '&'.join(each_img_tag['alt'].split('/'))))\n",
    "            urllib.request.urlretrieve(each_img_tag['src'], './total_img/{}.png'.format(title + '_' + '&'.join(each_img_tag['alt'].split('/'))))\n",
    "            total_df_info.append({'title': title + '_' + '&'.join(each_img_tag['alt'].split('/')), 'genre': genre, 'content': content, 'age': age})\n",
    "            total_img_count += 1\n",
    "\n",
    "df = pd.DataFrame(webtoon_info, columns=['title', 'genre', 'content', 'age'])\n",
    "total_df = pd.DataFrame(total_df_info, columns=['title', 'genre', 'content', 'age'])\n",
    "df.to_csv('webtoon_info.csv')\n",
    "total_df.to_csv('total_img_info.csv')\n"
   ]
  },
  {
   "cell_type": "code",
   "execution_count": 41,
   "metadata": {},
   "outputs": [
    {
     "data": {
      "text/plain": [
       "27860"
      ]
     },
     "execution_count": 41,
     "metadata": {},
     "output_type": "execute_result"
    }
   ],
   "source": [
    "total_img_count"
   ]
  },
  {
   "cell_type": "code",
   "execution_count": null,
   "metadata": {},
   "outputs": [],
   "source": []
  },
  {
   "cell_type": "code",
   "execution_count": null,
   "metadata": {},
   "outputs": [],
   "source": []
  },
  {
   "cell_type": "code",
   "execution_count": null,
   "metadata": {},
   "outputs": [],
   "source": []
  },
  {
   "cell_type": "code",
   "execution_count": null,
   "metadata": {},
   "outputs": [],
   "source": []
  },
  {
   "cell_type": "code",
   "execution_count": null,
   "metadata": {},
   "outputs": [],
   "source": []
  },
  {
   "cell_type": "code",
   "execution_count": null,
   "metadata": {},
   "outputs": [],
   "source": []
  }
 ],
 "metadata": {
  "kernelspec": {
   "display_name": "Python 3",
   "language": "python",
   "name": "python3"
  },
  "language_info": {
   "codemirror_mode": {
    "name": "ipython",
    "version": 3
   },
   "file_extension": ".py",
   "mimetype": "text/x-python",
   "name": "python",
   "nbconvert_exporter": "python",
   "pygments_lexer": "ipython3",
   "version": "3.7.6"
  }
 },
 "nbformat": 4,
 "nbformat_minor": 4
}
